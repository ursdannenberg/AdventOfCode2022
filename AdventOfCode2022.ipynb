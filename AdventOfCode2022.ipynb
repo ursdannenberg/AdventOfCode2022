{
 "cells": [
  {
   "cell_type": "code",
   "execution_count": 1,
   "metadata": {},
   "outputs": [],
   "source": [
    "import numpy as np\n",
    "import matplotlib.pyplot as plt\n",
    "from matplotlib.colors import ListedColormap\n",
    "import itertools\n",
    "from collections import deque\n",
    "import re"
   ]
  },
  {
   "cell_type": "markdown",
   "metadata": {},
   "source": [
    "### Day 1"
   ]
  },
  {
   "cell_type": "code",
   "execution_count": 6,
   "metadata": {},
   "outputs": [
    {
     "name": "stdout",
     "output_type": "stream",
     "text": [
      "Part 1: 70116\n",
      "Part 2: 206582\n"
     ]
    }
   ],
   "source": [
    "nums = [0]\n",
    "with open(\"Day1.txt\") as file:\n",
    "    for line in file:\n",
    "        if line == '\\n':\n",
    "            nums.append(0)\n",
    "        else:\n",
    "            nums[-1] += int(line)\n",
    "print('Part 1: ' + str(max(nums)))\n",
    "nums.sort(reverse=True)\n",
    "print('Part 2: ' + str(sum(nums[:3])))"
   ]
  },
  {
   "cell_type": "markdown",
   "metadata": {},
   "source": [
    "### Day 2"
   ]
  },
  {
   "cell_type": "code",
   "execution_count": 7,
   "metadata": {},
   "outputs": [
    {
     "name": "stdout",
     "output_type": "stream",
     "text": [
      "Part 1: 10941\n",
      "Part 2: 13071\n"
     ]
    }
   ],
   "source": [
    "def parse(input):\n",
    "    if input in ['A', 'X']: output = 1\n",
    "    elif input in ['B', 'Y']: output = 2\n",
    "    elif input in ['C', 'Z']: output = 3\n",
    "    return output\n",
    "\n",
    "score1 = 0\n",
    "score2 = 0\n",
    "with open(\"Day2.txt\") as file: \n",
    "    for line in file:\n",
    "        you = parse(line[0])\n",
    "        me = parse(line[2])\n",
    "        # Part 1\n",
    "        score1 += me\n",
    "        if me == you: score1 += 3\n",
    "        elif me == you+1 or (me == 1 and you == 3): score1 += 6\n",
    "        # Part 2\n",
    "        if me == 1:\n",
    "            score2 += you-1\n",
    "            if you == 1: score2 += 3\n",
    "        elif me == 2:\n",
    "            score2 += you+3\n",
    "        elif me == 3:\n",
    "            score2 += you+7\n",
    "            if you == 3: score2 -= 3        \n",
    "print('Part 1: ' + str(score1))\n",
    "print('Part 2: ' + str(score2))"
   ]
  },
  {
   "cell_type": "markdown",
   "metadata": {},
   "source": [
    "### Day 3"
   ]
  },
  {
   "cell_type": "code",
   "execution_count": 8,
   "metadata": {},
   "outputs": [
    {
     "name": "stdout",
     "output_type": "stream",
     "text": [
      "Part 1: 7701\n",
      "Part 2: 2644\n"
     ]
    }
   ],
   "source": [
    "def parse(input):\n",
    "    output = ord(input)-96\n",
    "    if output < 0: output = output+58\n",
    "    return output\n",
    "\n",
    "items = []\n",
    "sum1 = 0\n",
    "sum2 = 0\n",
    "with open(\"Day3.txt\") as file: \n",
    "    for line in file:\n",
    "        line = line.strip('\\n')\n",
    "        items.append([parse(item) for item in line])\n",
    "        # Part 1\n",
    "        for item in items[-1][:int(len(line)/2)]:\n",
    "            if item in items[-1][int(len(line)/2):]:\n",
    "                sum1 += item\n",
    "                break\n",
    "        # Part 2\n",
    "        if len(items) == 3:\n",
    "            for item in items[0]:\n",
    "                if item in items[1] and item in items[2]:\n",
    "                    sum2 += item\n",
    "                    break\n",
    "            items = []        \n",
    "print('Part 1: ' + str(sum1))\n",
    "print('Part 2: ' + str(sum2))\n"
   ]
  },
  {
   "cell_type": "markdown",
   "metadata": {},
   "source": [
    "### Day 4"
   ]
  },
  {
   "cell_type": "code",
   "execution_count": 9,
   "metadata": {},
   "outputs": [
    {
     "name": "stdout",
     "output_type": "stream",
     "text": [
      "Part 1: 462\n",
      "Part 2: 835\n"
     ]
    }
   ],
   "source": [
    "counter1 = 0\n",
    "counter2 = 0\n",
    "with open(\"Day4.txt\") as file: \n",
    "    for line in file:\n",
    "        bounds = [[int(bound) for bound in section.split('-')] \\\n",
    "            for section in line.split(',')]\n",
    "        cond = False\n",
    "        for i in range(2):\n",
    "            if bounds[i][0] <= bounds[(i+1)%2][0]:\n",
    "                if bounds[i][1] >= bounds[(i+1)%2][1]:\n",
    "                    counter1 += 1\n",
    "                    cond = True\n",
    "                    break\n",
    "                elif bounds[i][1] >= bounds[(i+1)%2][0]:\n",
    "                    cond = True\n",
    "            elif bounds[i][0] <= bounds[(i+1)%2][1] and \\\n",
    "                bounds[i][1] >= bounds[(i+1)%2][1]:\n",
    "                cond = True\n",
    "        if cond: counter2 += 1\n",
    "print('Part 1: ' + str(counter1))\n",
    "print('Part 2: ' + str(counter2))"
   ]
  },
  {
   "cell_type": "markdown",
   "metadata": {},
   "source": [
    "### Day 5"
   ]
  },
  {
   "cell_type": "code",
   "execution_count": 10,
   "metadata": {},
   "outputs": [
    {
     "name": "stdout",
     "output_type": "stream",
     "text": [
      "Part 1: GFTNRBZPF\n",
      "Part 2: VRQWPDSGP\n"
     ]
    }
   ],
   "source": [
    "def read(line, stacks1, stacks2):\n",
    "    index = 0\n",
    "    while index < len(line):\n",
    "        if line[index] == '[':\n",
    "            for stack in [stacks1, stacks2]:\n",
    "                stack[int(index/4)].insert(0, line[index+1]) \n",
    "        index += 4\n",
    "\n",
    "def move(line, stacks1, stacks2):\n",
    "    line = line.split('move ')[1]\n",
    "    num = int(line.split(' from ')[0])\n",
    "    line = line.split(' from ')[1]\n",
    "    fro, to = [int(chars) for chars in line.split(' to ')]\n",
    "    while num > 0:\n",
    "        stacks1[to-1].append(stacks1[fro-1][-1])\n",
    "        stacks2[to-1].append(stacks2[fro-1][-num])\n",
    "        stacks1[fro-1].pop()\n",
    "        stacks2[fro-1].pop(-num)\n",
    "        num -= 1   \n",
    "\n",
    "firstLine = True\n",
    "with open(\"Day5.txt\") as file:\n",
    "    for line in file:\n",
    "        if firstLine:\n",
    "            stacks1 = [[] for i in range(int(len(line)/4))]\n",
    "            stacks2 = [[] for i in range(int(len(line)/4))]\n",
    "            firstLine = False\n",
    "        if all(char in [' ', '\\n'] for char in line) or line[1] == '1':\n",
    "            continue\n",
    "        elif line[0] == 'm':\n",
    "            move(line, stacks1, stacks2)\n",
    "        else:\n",
    "            read(line, stacks1, stacks2)\n",
    "\n",
    "solution = ''\n",
    "for stack in stacks1:\n",
    "    solution += stack[-1]\n",
    "print('Part 1: ' + solution)\n",
    "solution = ''\n",
    "for stack in stacks2:\n",
    "    solution += stack[-1]\n",
    "print('Part 2: ' + solution)\n"
   ]
  },
  {
   "cell_type": "markdown",
   "metadata": {},
   "source": [
    "### Day 6"
   ]
  },
  {
   "cell_type": "code",
   "execution_count": 11,
   "metadata": {},
   "outputs": [
    {
     "name": "stdout",
     "output_type": "stream",
     "text": [
      "Part 1: 1909\n",
      "Part 2: 3380\n"
     ]
    }
   ],
   "source": [
    "with open(\"Day6.txt\") as file:\n",
    "    for line in file:\n",
    "        for part in [0, 1]:\n",
    "            pos = 3+10*part\n",
    "            while True:\n",
    "                segment = line[pos-(3+10*part):pos+1]\n",
    "                if len(set(segment)) == len(segment):\n",
    "                    print('Part %i: ' % (part+1) + str(pos+1))\n",
    "                    break\n",
    "                pos += 1"
   ]
  },
  {
   "cell_type": "markdown",
   "metadata": {},
   "source": [
    "### Day 7"
   ]
  },
  {
   "cell_type": "code",
   "execution_count": 12,
   "metadata": {},
   "outputs": [
    {
     "name": "stdout",
     "output_type": "stream",
     "text": [
      "Part 1: 1581595\n",
      "Part 2: 1544176\n"
     ]
    }
   ],
   "source": [
    "path = \"\"\n",
    "dirSizes = {}\n",
    "with open(\"Day7.txt\") as file:\n",
    "    for line in file:\n",
    "        if line[0:3] == \"$ c\":\n",
    "            dir = line.split(\"$ cd \")[1].strip(\"\\n\")\n",
    "            if dir == \"..\":\n",
    "                oldPath = path\n",
    "                path = oldPath.rsplit(\"/\", 2)[0] + \"/\"\n",
    "                if path not in dirSizes.keys():\n",
    "                    dirSizes[path] = dirSizes[oldPath]\n",
    "                else:\n",
    "                    dirSizes[path] += dirSizes[oldPath]\n",
    "            else:\n",
    "                path += dir + \"/\"\n",
    "        else:\n",
    "            if line[0] == \"$\" or line[0] == \"d\":\n",
    "                continue\n",
    "            else:\n",
    "                size = int(\"\".join(char for char in line if char.isdigit()))\n",
    "                if path not in dirSizes.keys():\n",
    "                    dirSizes[path] = size\n",
    "                else:\n",
    "                    dirSizes[path] += size\n",
    "\n",
    "sum = 0\n",
    "needed = 30000000-(70000000-dirSizes[\"//\"])\n",
    "found = dirSizes[\"//\"]\n",
    "for dirSize in dirSizes.values():\n",
    "    if dirSize <= 100000: sum += dirSize\n",
    "    if dirSize >= needed and dirSize < found: found = dirSize\n",
    "print(\"Part 1: \" + str(sum))\n",
    "print(\"Part 2: \" + str(found))\n",
    "\n",
    "        "
   ]
  },
  {
   "cell_type": "markdown",
   "metadata": {},
   "source": [
    "### Day 8"
   ]
  },
  {
   "cell_type": "code",
   "execution_count": 13,
   "metadata": {},
   "outputs": [
    {
     "name": "stdout",
     "output_type": "stream",
     "text": [
      "Part 1: 1787\n",
      "Part 2: 440640\n"
     ]
    }
   ],
   "source": [
    "def calcScore(tree, i, segment, score):\n",
    "    if i%2 == 0: segment = reversed(list(segment))\n",
    "    for thisTree in segment:\n",
    "        score[i] += 1\n",
    "        if thisTree >= tree: break\n",
    "\n",
    "grid = []\n",
    "with open(\"Day8.txt\") as file:\n",
    "    for line in file:\n",
    "        grid.append([])\n",
    "        for char in line.strip():\n",
    "            grid[-1].append(int(char))\n",
    "grid = np.asarray(grid)\n",
    "counter = 0\n",
    "scores = np.zeros(tuple(grid.shape))\n",
    "for i in range(grid.shape[0]):\n",
    "    for j in range(grid.shape[1]):\n",
    "        score = np.zeros(4)\n",
    "        segments = [grid[:i, j], grid[i+1:, j], grid[i, :j], grid[i, j+1:]]\n",
    "        if any(all(tree < grid[i, j] for tree in segment) for segment in segments): counter += 1\n",
    "        for k, segment in enumerate(segments):\n",
    "            calcScore(grid[i, j], k, segment, score)\n",
    "        scores[i, j] = np.prod(score)\n",
    "print(\"Part 1: \" + str(counter))\n",
    "print(\"Part 2: \" + str(int(np.amax(scores))))\n",
    "        \n"
   ]
  },
  {
   "cell_type": "markdown",
   "metadata": {},
   "source": [
    "### Day 9"
   ]
  },
  {
   "cell_type": "code",
   "execution_count": 14,
   "metadata": {},
   "outputs": [
    {
     "name": "stdout",
     "output_type": "stream",
     "text": [
      "Part 1: 5513\n",
      "Part 2: 2427\n"
     ]
    }
   ],
   "source": [
    "def checkPosTail(posTail, posHead):\n",
    "    posTail = list(posTail)\n",
    "    if posHead[0] == posTail[0] and posHead[1] > posTail[1]+1:\n",
    "        posTail[1] += 1\n",
    "    elif posHead[0] == posTail[0] and posHead[1] < posTail[1]-1:\n",
    "        posTail[1] -= 1\n",
    "    elif posHead[1] == posTail[1] and posHead[0] > posTail[0]+1:\n",
    "        posTail[0] += 1\n",
    "    elif posHead[1] == posTail[1] and posHead[0] < posTail[0]-1:\n",
    "        posTail[0] -= 1\n",
    "    elif (posHead[0] >= posTail[0]+1 and posHead[1] > posTail[1]+1) \\\n",
    "        or (posHead[1] >= posTail[1]+1 and posHead[0] > posTail[0]+1):\n",
    "        posTail[0] += 1\n",
    "        posTail[1] += 1\n",
    "    elif (posHead[0] <= posTail[0]-1 and posHead[1] > posTail[1]+1) \\\n",
    "        or (posHead[1] >= posTail[1]+1 and posHead[0] < posTail[0]-1):\n",
    "        posTail[0] -= 1\n",
    "        posTail[1] += 1\n",
    "    elif (posHead[0] >= posTail[0]+1 and posHead[1] < posTail[1]-1) \\\n",
    "        or (posHead[1] <= posTail[1]-1 and posHead[0] > posTail[0]+1):\n",
    "        posTail[0] += 1\n",
    "        posTail[1] -= 1\n",
    "    elif (posHead[0] <= posTail[0]-1 and posHead[1] < posTail[1]-1) \\\n",
    "        or (posHead[1] <= posTail[1]-1 and posHead[0] < posTail[0]-1):\n",
    "        posTail[0] -= 1\n",
    "        posTail[1] -= 1\n",
    "    return tuple(posTail)\n",
    "\n",
    "def moveRope(length):\n",
    "    poses = [(0, 0) for i in range(length)]\n",
    "    posesTail = []\n",
    "    with open(\"Day9.txt\") as file:\n",
    "        for line in file:\n",
    "            dir, steps = line.strip().split(' ')\n",
    "            for i in range(int(steps)):\n",
    "                posHead = list(poses[0])\n",
    "                if dir == 'R':\n",
    "                    posHead[0] += 1\n",
    "                elif dir == 'L':\n",
    "                    posHead[0] -= 1\n",
    "                elif dir == 'U':\n",
    "                    posHead[1] += 1\n",
    "                elif dir == 'D':\n",
    "                    posHead[1] -= 1\n",
    "                poses[0] = tuple(posHead)\n",
    "                for j in range(1, length):\n",
    "                    poses[j] = checkPosTail(poses[j], poses[j-1])\n",
    "                if poses[length-1] not in posesTail:\n",
    "                    posesTail.append(poses[length-1])\n",
    "    return str(len(posesTail))\n",
    "\n",
    "print(\"Part 1: \" + moveRope(2))\n",
    "print(\"Part 2: \" + moveRope(10))\n",
    "\n",
    "            "
   ]
  },
  {
   "attachments": {},
   "cell_type": "markdown",
   "metadata": {},
   "source": [
    "### Day 10"
   ]
  },
  {
   "cell_type": "code",
   "execution_count": 15,
   "metadata": {},
   "outputs": [
    {
     "name": "stdout",
     "output_type": "stream",
     "text": [
      "Part 1: 14160\n"
     ]
    },
    {
     "data": {
      "text/plain": [
       "Text(0.5, 1.0, 'Part 2')"
      ]
     },
     "execution_count": 15,
     "metadata": {},
     "output_type": "execute_result"
    },
    {
     "data": {
      "image/png": "[encoded data removed]",
      "text/plain": [
       "<Figure size 432x288 with 1 Axes>"
      ]
     },
     "metadata": {
      "needs_background": "light"
     },
     "output_type": "display_data"
    }
   ],
   "source": [
    "cycle = 0\n",
    "X = 1\n",
    "\n",
    "cycles = np.linspace(20, 220, num=6, dtype=int)\n",
    "sum = 0\n",
    "\n",
    "def part1(sum, cycle, X):\n",
    "    if cycle in cycles: sum += cycle*X\n",
    "    return sum\n",
    "\n",
    "CRT = np.zeros((6, 40))\n",
    "\n",
    "def part2(CRT, cycle, X):\n",
    "    if cycle%40 in [X-1, X, X+1]: CRT[cycle//40, cycle%40] = 1\n",
    "    return CRT\n",
    "    \n",
    "with open(\"Day10.txt\") as file:\n",
    "    for line in file:\n",
    "        if line[0] == \"n\":\n",
    "            CRT = part2(CRT, cycle, X)\n",
    "            cycle += 1\n",
    "            sum = part1(sum, cycle, X)\n",
    "        elif line[0] == \"a\":\n",
    "            for i in range(2):\n",
    "                CRT = part2(CRT, cycle, X)\n",
    "                cycle += 1\n",
    "                sum = part1(sum, cycle, X)\n",
    "            X += int(line.split(\"addx \")[1].strip(\"\\n\"))\n",
    "print(\"Part 1: \" + str(sum))\n",
    "cmapbw = ListedColormap(['k', 'w'], N=2)\n",
    "plt.imshow(CRT, cmap=cmapbw, vmin=0, vmax=1)\n",
    "plt.title(\"Part 2\")"
   ]
  },
  {
   "attachments": {},
   "cell_type": "markdown",
   "metadata": {},
   "source": [
    "### Day 11"
   ]
  },
  {
   "cell_type": "code",
   "execution_count": 16,
   "metadata": {},
   "outputs": [
    {
     "name": "stdout",
     "output_type": "stream",
     "text": [
      "Part 1: 78678\n",
      "Part 2: 15333249714\n"
     ]
    }
   ],
   "source": [
    "def readFile():\n",
    "    monkeys = []\n",
    "    items = {}\n",
    "    operation = {}\n",
    "    test = {}\n",
    "    with open(\"Day11.txt\") as file:\n",
    "        for line in file:\n",
    "            line = line.strip()\n",
    "            if line == \"\":\n",
    "                continue\n",
    "            if line[0] == \"M\":\n",
    "                monkeys.append(int(\"\".join(char for char in line if char.isdigit())))\n",
    "            elif line[0] == \"S\":\n",
    "                startItems = line.split(\"Starting items: \")[1].split(\", \")\n",
    "                items[monkeys[-1]] = [int(item) for item in startItems]\n",
    "            elif line[0] == \"O\":\n",
    "                if \"*\" in line:\n",
    "                    operation[monkeys[-1]] = [\"*\"]\n",
    "                elif \"+\" in line:\n",
    "                    operation[monkeys[-1]] = [\"+\"]\n",
    "                inte = \"\".join(char for char in line if char.isdigit())\n",
    "                if len(inte) == 0:\n",
    "                    operation[monkeys[-1]].append(-1)\n",
    "                else:\n",
    "                    operation[monkeys[-1]].append(int(inte))\n",
    "            elif line[0] == \"T\":\n",
    "                test[monkeys[-1]] = [int(\"\".join(char for char in line if char.isdigit()))]\n",
    "            else:\n",
    "                test[monkeys[-1]].append(int(\"\".join(char for char in line if char.isdigit())))\n",
    "    return monkeys, items, operation, test\n",
    "\n",
    "def monkeyinthemiddle(part, numRounds):\n",
    "    monkeys, items, operation, test = readFile()\n",
    "    inspects = {}\n",
    "    for monkey in monkeys:\n",
    "        inspects[monkey] = 0\n",
    "    if part == 2:\n",
    "        prod = np.prod([value[0] for value in test.values()])\n",
    "    for i in range(numRounds):\n",
    "        for monkey in monkeys:\n",
    "            for item in items[monkey]:\n",
    "                inspects[monkey] += 1\n",
    "                if operation[monkey][0] == \"*\":\n",
    "                    if operation[monkey][1] == -1:\n",
    "                        fear = item * item\n",
    "                    else:\n",
    "                        fear = item * operation[monkey][1]\n",
    "                elif operation[monkey][0] == \"+\":\n",
    "                    if operation[monkey][1] == -1:\n",
    "                        fear = item + item\n",
    "                    else:\n",
    "                        fear = item + operation[monkey][1]\n",
    "                if part == 1:\n",
    "                    fear //= 3\n",
    "                elif part == 2:\n",
    "                    fear %= prod\n",
    "                if fear%test[monkey][0] == 0:\n",
    "                    items[test[monkey][1]].append(fear)\n",
    "                else:\n",
    "                    items[test[monkey][2]].append(fear)\n",
    "            items[monkey] = []     \n",
    "    return str(np.prod(sorted(inspects.values())[-2:]))   \n",
    " \n",
    "print(\"Part 1: \" + monkeyinthemiddle(1, 20))\n",
    "print(\"Part 2: \" + monkeyinthemiddle(2, 10000))"
   ]
  },
  {
   "attachments": {},
   "cell_type": "markdown",
   "metadata": {},
   "source": [
    "### Day 12"
   ]
  },
  {
   "cell_type": "code",
   "execution_count": 17,
   "metadata": {},
   "outputs": [
    {
     "name": "stdout",
     "output_type": "stream",
     "text": [
      "Part 1: 472\n",
      "Part 2: 465\n"
     ]
    }
   ],
   "source": [
    "map = []\n",
    "with open(\"Day12.txt\") as file:\n",
    "    for i, line in enumerate(file):\n",
    "        map.append([])\n",
    "        for j, char in enumerate(line.strip()):\n",
    "            if char == \"S\":\n",
    "                map[-1].append(1)\n",
    "                start = (i, j)\n",
    "            elif char == \"E\":\n",
    "                map[-1].append(26)\n",
    "                end = (i, j)\n",
    "            else:\n",
    "                map[-1].append(ord(char)-96)\n",
    "\n",
    "map = np.asarray(map)\n",
    "steps1 = np.zeros(map.shape)\n",
    "steps2 = np.zeros(map.shape)\n",
    "queue = [start]\n",
    "visited = []\n",
    "done = False\n",
    "while True:\n",
    "    thisPos = queue[0]\n",
    "    poses = []\n",
    "    for i in [thisPos[0]-1, thisPos[0]+1]:\n",
    "        if i >= 0 and i <= map.shape[0]-1: poses.append((i, thisPos[1]))\n",
    "    for i in [thisPos[1]-1, thisPos[1]+1]:\n",
    "        if i >= 0 and i <= map.shape[1]-1: poses.append((thisPos[0], i))\n",
    "    for pos in poses:\n",
    "        if pos not in visited:\n",
    "            if map[pos] <= map[thisPos]+1:\n",
    "                steps1[pos] = steps1[thisPos]+1\n",
    "                if map[pos] == 1:\n",
    "                    steps2[pos] = 0\n",
    "                else:\n",
    "                    steps2[pos] = steps2[thisPos]+1\n",
    "                if pos == end:\n",
    "                    print(\"Part 1: \" + str(int(steps1[pos])))\n",
    "                    print(\"Part 2: \" + str(int(steps2[pos])))\n",
    "                    done = True\n",
    "                    break\n",
    "                queue.append(pos)\n",
    "                visited.append(pos)\n",
    "    queue.pop(0)\n",
    "    if done == True: break\n",
    "\n",
    "        "
   ]
  },
  {
   "attachments": {},
   "cell_type": "markdown",
   "metadata": {},
   "source": [
    "### Day 13"
   ]
  },
  {
   "cell_type": "code",
   "execution_count": 329,
   "metadata": {},
   "outputs": [
    {
     "name": "stdout",
     "output_type": "stream",
     "text": [
      "Part 1: 6187\n",
      "Part 2: 23520\n"
     ]
    }
   ],
   "source": [
    "def compare(l, r):\n",
    "    if isinstance(l, int) and isinstance(r, int):\n",
    "        if l < r:\n",
    "            return True\n",
    "        elif l > r:\n",
    "            return False\n",
    "        else:\n",
    "            return None\n",
    "\n",
    "    elif isinstance(l, list) and isinstance(r, list):\n",
    "        for li, ri in zip(l, r):\n",
    "            result = compare(li, ri)\n",
    "            if result != None:\n",
    "                return result\n",
    "        if len(l) < len(r):\n",
    "            return True\n",
    "        elif len(l) > len(r):\n",
    "            return False\n",
    "        else:\n",
    "            return None\n",
    "\n",
    "    elif isinstance(l, list) and isinstance(r, int):\n",
    "        result = compare(l, [r])\n",
    "        if result != None:\n",
    "            return result\n",
    "\n",
    "    \n",
    "    elif isinstance(l, int) and isinstance(r, list):\n",
    "        result = compare([l], r)\n",
    "        if result != None:\n",
    "            return result\n",
    "\n",
    "def part1(filename):\n",
    "    indices = []\n",
    "    i = 1\n",
    "    with open(filename) as file:\n",
    "        for line in file:\n",
    "            if i%3 == 1:\n",
    "                left = eval(line.strip())\n",
    "            elif i%3 == 2:\n",
    "                right = eval(line.strip())\n",
    "            else:\n",
    "                if compare(left, right): indices.append(i//3)\n",
    "            i += 1\n",
    "    return str(sum(indices))\n",
    "\n",
    "def part2(filename):\n",
    "    order = [1, 2]\n",
    "    lists = {1: [[2]], 2: [[6]]}\n",
    "    index = 3\n",
    "    with open(filename) as file:\n",
    "        for line in file:\n",
    "            if line == \"\\n\":\n",
    "                continue\n",
    "            line = eval(line.strip())\n",
    "            lists[index] = line\n",
    "            for i, ind in enumerate(order):\n",
    "                if compare(line, lists[ind]):\n",
    "                    order.insert(i, index)\n",
    "                    break\n",
    "            if index not in order: order.append(index)\n",
    "            index += 1\n",
    "    return str(np.prod([i+1 for i, ind in enumerate(order) if ind == 1 or ind == 2]))\n",
    "\n",
    "print(\"Part 1: \" + part1(\"Day13.txt\"))\n",
    "print(\"Part 2: \" + part2(\"Day13.txt\"))\n",
    "    \n",
    "    "
   ]
  },
  {
   "attachments": {},
   "cell_type": "markdown",
   "metadata": {},
   "source": [
    "### Day 14"
   ]
  },
  {
   "cell_type": "code",
   "execution_count": 330,
   "metadata": {},
   "outputs": [
    {
     "name": "stdout",
     "output_type": "stream",
     "text": [
      "Part 1: 897\n",
      "Part 2: 26683\n"
     ]
    }
   ],
   "source": [
    "def readData(filename):\n",
    "    blocked = set()\n",
    "    with open(filename) as file:\n",
    "        for line in file:\n",
    "            line = line.strip().split(\" -> \")\n",
    "            rocks = [eval(\"(\" + coords + \")\") for coords in line]\n",
    "            for left, right in zip(rocks, rocks[1:]):\n",
    "                if left[0] == right[0]:\n",
    "                    coords = np.linspace(min(left[1], right[1]), max(left[1], right[1]),\n",
    "                        num=abs(left[1]-right[1])+1, dtype=int)\n",
    "                    blocked.update((left[0], coord) for coord in coords if (left[0], coord) not in blocked)\n",
    "                elif left[1] == right[1]:\n",
    "                    coords = np.linspace(min(left[0], right[0]), max(left[0], right[0]),\n",
    "                        num=abs(left[0]-right[0])+1, dtype=int)\n",
    "                    blocked.update((coord, left[1]) for coord in coords if (coord, left[1]) not in blocked)\n",
    "    maxY = max(y for x, y in blocked)\n",
    "    return blocked, maxY\n",
    "\n",
    "def part1(filename):\n",
    "    blocked, maxY = readData(filename)\n",
    "    for i in itertools.count():\n",
    "        sandX = 500\n",
    "        sandY = 0\n",
    "        while True:\n",
    "            moved = False\n",
    "            for newSand in [(sandX, sandY+1), (sandX-1, sandY+1), (sandX+1, sandY+1)]:\n",
    "                if newSand not in blocked:\n",
    "                    sandX, sandY = newSand\n",
    "                    moved = True\n",
    "                    break\n",
    "            if not moved:\n",
    "                blocked.add((sandX, sandY))\n",
    "                break\n",
    "            if sandY == maxY:\n",
    "                return str(i)\n",
    "\n",
    "def part2(filename):\n",
    "    blocked, maxY = readData(filename)\n",
    "    for i in itertools.count():\n",
    "        sandX = 500\n",
    "        sandY = 0\n",
    "        while True:\n",
    "            moved = False\n",
    "            for newSand in [(sandX, sandY+1), (sandX-1, sandY+1), (sandX+1, sandY+1)]:\n",
    "                if newSand not in blocked and newSand[1] <= maxY+1:\n",
    "                    sandX, sandY = newSand\n",
    "                    moved = True\n",
    "                    break\n",
    "            if not moved:\n",
    "                if sandX == 500 and sandY == 0:\n",
    "                    return str(i+1)\n",
    "                blocked.add((sandX, sandY))\n",
    "                break\n",
    "\n",
    "print(\"Part 1: \" + part1(\"Day14.txt\"))\n",
    "print(\"Part 2: \" + part2(\"Day14.txt\"))\n"
   ]
  },
  {
   "attachments": {},
   "cell_type": "markdown",
   "metadata": {},
   "source": [
    "### Day 15"
   ]
  },
  {
   "cell_type": "code",
   "execution_count": 28,
   "metadata": {},
   "outputs": [
    {
     "name": "stdout",
     "output_type": "stream",
     "text": [
      "Part 1: 5240819\n",
      "Part 2: 13213086906101\n"
     ]
    }
   ],
   "source": [
    "def readData(filename, part):\n",
    "    beacons = []\n",
    "    sensors = []\n",
    "    manhattanDists = []\n",
    "    xMin = np.Inf\n",
    "    xMax = 0\n",
    "    with open(filename) as file:\n",
    "        for line in file:\n",
    "            line = line.split(\"Sensor at x=\")[1]\n",
    "            sensorX, line = line.split(\", y=\", 1)\n",
    "            sensorY, line = line.split(\": closest beacon is at x=\")\n",
    "            beaconX, line = line.split(\", y=\")\n",
    "            beaconY = line.strip()\n",
    "            sensorX, sensorY, beaconX, beaconY = [int(coord) for coord in [sensorX, sensorY, beaconX, beaconY]]\n",
    "            sensors.append((sensorX, sensorY))\n",
    "            manhattanDists.append(abs(sensorX-beaconX)+abs(sensorY-beaconY))\n",
    "            if sensorX-manhattanDists[-1] < xMin: xMin = sensorX-manhattanDists[-1]\n",
    "            if sensorX+manhattanDists[-1] > xMax: xMax = sensorX+manhattanDists[-1]\n",
    "    if part == \"1\":\n",
    "        return sensors, beacons, manhattanDists, xMin, xMax\n",
    "    elif part == \"2\":\n",
    "        return sensors, beacons, manhattanDists\n",
    "\n",
    "def part1(filename, y):\n",
    "    sensors, beacons, manhattanDists, xMin, xMax = readData(filename, \"1\")\n",
    "    counter = 0\n",
    "    for x in range(xMin, xMax+1):\n",
    "        if (x, y) not in sensors and (x, y) not in beacons:\n",
    "            for i, (sensorX, sensorY) in enumerate(sensors):\n",
    "                if manhattanDists[i]-abs(sensorY-y)-abs(sensorX-x) >= 0:\n",
    "                        counter += 1\n",
    "                        break\n",
    "    return str(counter)\n",
    "\n",
    "def part2(filename, maxCoord):\n",
    "    sensors, beacons, manhattanDists = readData(filename, \"2\")\n",
    "    for y in range(0, maxCoord+1):\n",
    "        intervalsX = []\n",
    "        for i, (sensorX, sensorY) in enumerate(sensors):\n",
    "            manhattanDist = manhattanDists[i]-abs(sensorY-y)\n",
    "            if manhattanDist >= 0:\n",
    "                intervalsX.append((sensorX-manhattanDist, sensorX+manhattanDist))\n",
    "        intervalsX.sort()\n",
    "        maxX = 0\n",
    "        for leftX, rightX in intervalsX:\n",
    "            if leftX-1 > maxX: return str((maxX+1)*4000000+y)\n",
    "            if rightX > maxX: maxX = rightX\n",
    "\n",
    "print(\"Part 1: \" + part1(\"Day15.txt\", 2000000))\n",
    "print(\"Part 2: \" + part2(\"Day15.txt\", 4000000))\n",
    "\n"
   ]
  },
  {
   "attachments": {},
   "cell_type": "markdown",
   "metadata": {},
   "source": [
    "### Day 16"
   ]
  },
  {
   "cell_type": "code",
   "execution_count": 78,
   "metadata": {},
   "outputs": [
    {
     "name": "stdout",
     "output_type": "stream",
     "text": [
      "Part 1: 2181\n",
      "Part 2: 2824\n"
     ]
    }
   ],
   "source": [
    "def calcNumSteps(start, end, neighbours):\n",
    "    steps = {}\n",
    "    for pos in neighbours.keys():\n",
    "        steps[pos] = np.inf\n",
    "    steps[start] = 0\n",
    "    queue = [start]\n",
    "    visited = []\n",
    "    done = False\n",
    "    while len(queue) > 0:\n",
    "        thisPos = queue[0]\n",
    "        poses = neighbours[thisPos]\n",
    "        for pos in poses:\n",
    "            if steps[thisPos]+1 < steps[pos]:\n",
    "                steps[pos] = steps[thisPos]+1\n",
    "            if pos not in visited: queue.append(pos)\n",
    "        visited.append(thisPos)\n",
    "        queue.pop(0)\n",
    "    return(steps[end])\n",
    "\n",
    "def readData(filename):\n",
    "    valves = []\n",
    "    presRates = {}\n",
    "    neighbours = {}\n",
    "    numSteps = {}\n",
    "    with open(filename) as file:\n",
    "        for line in file:\n",
    "                line = line.split(\"Valve \")[1]\n",
    "                valve, line = line.split(\" has flow rate=\")\n",
    "                valves.append(valve)\n",
    "                if \"tunnels\" in line:\n",
    "                    presRate, line = line.split(\"; tunnels lead to valves \")\n",
    "                else:\n",
    "                    presRate, line = line.split(\"; tunnel leads to valve \")\n",
    "                presRates[valve] = int(presRate)\n",
    "                neighbours[valve] = [neighbour for neighbour in line.strip().split(\", \")]\n",
    "    for numValve, thisValve in enumerate(valves):\n",
    "        for valve in valves[numValve+1:]:\n",
    "            numStep = calcNumSteps(thisValve, valve, neighbours)\n",
    "            numSteps[thisValve + valve] = numStep\n",
    "            numSteps[valve + thisValve] = numStep\n",
    "    return valves, presRates, numSteps\n",
    "\n",
    "def calcPresRateTotMaxPart1(time, valve, valves, presRates, numSteps):\n",
    "    presRateTotMax = 0\n",
    "    for newValve in valves:\n",
    "        newTime = time-numSteps[valve + newValve]-1\n",
    "        if newTime >= 0:\n",
    "            presRateTot = presRates[newValve]*newTime\n",
    "            newValves = [item for item in valves if item != newValve]\n",
    "            presRateTot += calcPresRateTotMaxPart1(newTime, newValve, newValves, presRates, numSteps)\n",
    "            presRateTotMax = max(presRateTotMax, presRateTot)\n",
    "    return presRateTotMax\n",
    "\n",
    "def part1(filename):\n",
    "    valves, presRates, numSteps = readData(filename)\n",
    "    closed = list(valve for valve in valves if presRates[valve] > 0)\n",
    "    presRateTotMax = \\\n",
    "        calcPresRateTotMaxPart1(30, \"AA\", closed, presRates, numSteps)\n",
    "    return (str(presRateTotMax))\n",
    "\n",
    "print(\"Part 1: \" + part1(\"Day16.txt\"))\n",
    "\n",
    "def calcPresRateTotMaxPart2(time, valve, valves, presRates, numSteps, switch):\n",
    "    if switch:\n",
    "        presRateTotMax = calcPresRateTotMaxPart2(26, \"AA\", valves, presRates, numSteps, False)\n",
    "    else:\n",
    "        presRateTotMax = 0\n",
    "    for newValve in valves:\n",
    "        newTime = time-numSteps[valve + newValve]-1\n",
    "        if newTime >= 0:\n",
    "            presRateTot = presRates[newValve]*newTime\n",
    "            newValves = valves - {newValve}\n",
    "            presRateTot += calcPresRateTotMaxPart2(newTime, newValve, newValves, presRates, numSteps, switch)\n",
    "            presRateTotMax = max(presRateTotMax, presRateTot)\n",
    "    return presRateTotMax\n",
    "\n",
    "def part2(filename):\n",
    "    valves, presRates, numSteps = readData(filename)\n",
    "    closed = frozenset(valve for valve in valves if presRates[valve] > 0)\n",
    "    presRateTotMax = \\\n",
    "        calcPresRateTotMaxPart2(26, \"AA\", closed, presRates, numSteps, True)\n",
    "    return (str(presRateTotMax))\n",
    "\n",
    "print(\"Part 2: \" + part2(\"Day16.txt\"))\n"
   ]
  },
  {
   "cell_type": "code",
   "execution_count": 327,
   "metadata": {},
   "outputs": [
    {
     "name": "stdout",
     "output_type": "stream",
     "text": [
      "Part 1: 3173\n",
      "Part 2: 1570930232582\n"
     ]
    }
   ],
   "source": [
    "def calc(filename, numRocks):\n",
    "    rocks = {}\n",
    "    rocks[0] = [(0, 0), (1, 0), (2, 0), (3, 0)]\n",
    "    rocks[1] = [(0, 1), (1, 0), (1, 1), (1, 2), (2, 1)]\n",
    "    rocks[2] = [(0, 0), (1, 0), (2, 0), (2, 1), (2, 2)]\n",
    "    rocks[3] = [(0, 0), (0, 1), (0, 2), (0, 3)]\n",
    "    rocks[4] = [(0, 0), (0, 1), (1, 0), (1, 1)]\n",
    "    yMax = 0\n",
    "    with open(filename) as file:\n",
    "        windPattern = itertools.cycle(enumerate(file.readline().strip()))  \n",
    "    rockInd = 1\n",
    "    rock = rocks[rockInd-1]\n",
    "    rock = [(x+2, y+yMax+4) for (x, y) in rock]\n",
    "    blocked = set()\n",
    "    blocked.update((x, 0) for x in range(7))\n",
    "    memory = {}\n",
    "    while rockInd <= numRocks:\n",
    "        windInd, wind = next(windPattern)\n",
    "        if wind == \"<\":\n",
    "            newRock = [(x-1, y) for (x, y) in rock]\n",
    "        elif wind == \">\":\n",
    "            newRock = [(x+1, y) for (x, y) in rock]\n",
    "        if not any(coords in blocked for coords in newRock) \\\n",
    "            and not any(x < 0 for (x, y) in newRock) \\\n",
    "            and not any(x > 6 for (x, y) in newRock):\n",
    "            rock = newRock\n",
    "        newRock = [(x, y-1) for (x, y) in rock]\n",
    "        if any(coords in blocked for coords in newRock):\n",
    "            blocked.update(coords for coords in rock)\n",
    "            yMaxes = tuple(max(y for (x, y) in blocked if x == thisX) for thisX in range(7))\n",
    "            yMax = max(yMax, max(yMaxes))\n",
    "            yMaxes = tuple(y-yMax for y in yMaxes)\n",
    "            if ((rockInd-1)%5, windInd, yMaxes) in memory.keys():\n",
    "                oldRockInd, oldYMax = memory[((rockInd-1)%5, windInd, yMaxes)]\n",
    "                reps = (numRocks-rockInd) // (rockInd-oldRockInd)\n",
    "                rockInd += (rockInd-oldRockInd)*reps\n",
    "                blocked = set((x, y+(yMax-oldYMax)*reps) for (x, y) in blocked)\n",
    "                yMax += (yMax-oldYMax)*reps\n",
    "            else:\n",
    "                memory[((rockInd-1)%5, windInd, yMaxes)] = rockInd, yMax\n",
    "            rockInd += 1\n",
    "            rock = rocks[(rockInd-1)%5]\n",
    "            rock = [(x+2, y+yMax+4) for (x, y) in rock]\n",
    "        else:\n",
    "            rock = newRock\n",
    "    return str(yMax)\n",
    "\n",
    "print(\"Part 1: \" + calc(\"Day17.txt\", 2022))\n",
    "print(\"Part 2: \" + calc(\"Day17.txt\", 1000000000000))\n"
   ]
  },
  {
   "attachments": {},
   "cell_type": "markdown",
   "metadata": {},
   "source": [
    "### Day 18"
   ]
  },
  {
   "cell_type": "code",
   "execution_count": 71,
   "metadata": {},
   "outputs": [
    {
     "name": "stdout",
     "output_type": "stream",
     "text": [
      "Part 1: 4348\n",
      "Part 2: 2546\n"
     ]
    }
   ],
   "source": [
    "def readData(filename):\n",
    "    lavas = []\n",
    "    with open(filename) as file:\n",
    "        for line in file:\n",
    "            lavas.append(tuple(int(lava) for lava in line.strip().split(\",\")))\n",
    "    return lavas\n",
    "\n",
    "def part1(filename):\n",
    "    lavas = readData(filename)\n",
    "    neighbours = [(0, 0, -1), (0, 0, 1), (0, -1, 0), (0, 1, 0), (-1, 0, 0), (1, 0, 0)]\n",
    "    sides = 0\n",
    "    for lava in lavas:\n",
    "        for neighbour in neighbours:\n",
    "            if tuple(l+n for l, n in zip(lava, neighbour)) not in lavas: sides += 1\n",
    "    return(str(sides))\n",
    "\n",
    "def air(start, lavas, neighbours, airs, steams):\n",
    "    if start in airs:\n",
    "        return True, airs, steams\n",
    "    elif start in steams:\n",
    "        return False, airs, steams \n",
    "    queue = [start]\n",
    "    minLava = tuple(min(lava[i] for lava in lavas)-1 for i in range(3))\n",
    "    maxLava = tuple(max(lava[i] for lava in lavas)+1 for i in range(3))\n",
    "    visited = []\n",
    "    while len(queue) > 0:\n",
    "        thisPos = queue[0]\n",
    "        visited.append(thisPos)\n",
    "        queue.pop(0)\n",
    "        poses = [tuple(p+n for p, n in zip(thisPos, neighbour)) for neighbour in neighbours]\n",
    "        for pos in poses:\n",
    "            if pos in airs:\n",
    "                airs.update(visited)\n",
    "                return True, airs, steams\n",
    "            elif pos in steams or \\\n",
    "                any(p == l for p, l in zip(pos, minLava)) or any(p == l for p, l in zip(pos, maxLava)):\n",
    "                steams.update(visited)\n",
    "                return False, airs, steams\n",
    "            elif pos not in lavas and pos not in visited and pos not in queue:\n",
    "                queue.append(pos)\n",
    "    airs.update(visited)\n",
    "    return True, airs, steams\n",
    "\n",
    "def part2(filename):\n",
    "    lavas = readData(filename)\n",
    "    neighbours = [(0, 0, -1), (0, 0, 1), (0, -1, 0), (0, 1, 0), (-1, 0, 0), (1, 0, 0)]\n",
    "    sides = 0\n",
    "    airs = set()\n",
    "    steams = set()\n",
    "    for i, lava in enumerate(lavas):\n",
    "        for neighbour in neighbours:\n",
    "            thisNeighbour = tuple(l+n for l, n in zip(lava, neighbour))\n",
    "            if thisNeighbour not in lavas:\n",
    "                thisAir, airs, steams =  air(thisNeighbour, lavas, neighbours, airs, steams)\n",
    "                if not thisAir: sides += 1\n",
    "    return(str(sides))\n",
    "\n",
    "print(\"Part 1: \" + part1(\"Day18.txt\"))\n",
    "print(\"Part 2: \" + part2(\"Day18.txt\"))\n",
    "\n"
   ]
  },
  {
   "attachments": {},
   "cell_type": "markdown",
   "metadata": {},
   "source": [
    "### Day 19"
   ]
  },
  {
   "cell_type": "code",
   "execution_count": 21,
   "metadata": {},
   "outputs": [
    {
     "name": "stdout",
     "output_type": "stream",
     "text": [
      "Part 1: 1480\n",
      "Part 2: 3168\n"
     ]
    }
   ],
   "source": [
    "def readData(filename):\n",
    "    blueprints = []\n",
    "    with open(filename) as file:\n",
    "        for line in file:\n",
    "            costs = [int(cost) for cost in re.findall(r'\\d+', line)[1:]]\n",
    "            blueprints.append([[costs[0], 0, 0, 0], [costs[1], 0, 0, 0],\n",
    "                [costs[2], costs[3], 0, 0], [costs[4], 0, costs[5], 0]])\n",
    "    return blueprints\n",
    "\n",
    "def calcGeodeMaxPart1(time, resources, robots, blueprint, costsMax):\n",
    "    geodeMax = resources[-1]+time*robots[-1]\n",
    "    for kind, costs in enumerate(blueprint):\n",
    "        if robots[kind] >= costsMax[kind]: continue\n",
    "        newTime = time\n",
    "        nope = False\n",
    "        for resource, cost in enumerate(costs):\n",
    "            if cost > 0 and robots[resource] == 0:\n",
    "                nope = True\n",
    "                break\n",
    "            if resources[resource] < cost:\n",
    "                newTime = min(newTime,\n",
    "                    time+((resources[resource]-cost)//robots[resource]))\n",
    "        newTime -= 1\n",
    "        if newTime > 0 and not nope:\n",
    "            newRobots = robots.copy()\n",
    "            newRobots[kind] += 1\n",
    "            newResources = []\n",
    "            for i in range(4):\n",
    "                newResources.append(resources[i]-costs[i]+(time-newTime)*robots[i])\n",
    "            geodeMax = max(geodeMax, calcGeodeMaxPart1(newTime,\n",
    "                    newResources, newRobots, blueprint, costsMax))\n",
    "    return geodeMax\n",
    "\n",
    "def part1(filename):\n",
    "    blueprints = readData(filename)\n",
    "    sum = 0\n",
    "    for i, blueprint in enumerate(blueprints):\n",
    "        costsMax = list(max(costs[j] for costs in blueprint) for j in range(4))\n",
    "        costsMax[3] = np.inf\n",
    "        geodeMax = calcGeodeMaxPart1(24, [0]*4, [1, 0, 0, 0], blueprint, costsMax)\n",
    "        sum += (i+1)*geodeMax\n",
    "    return str(sum)\n",
    "\n",
    "def calcGeodeMaxPart2(time, resources, robots, blueprint, costsMax):\n",
    "    geodeMax = resources[-1]+time*robots[-1]\n",
    "    for kind, costs in enumerate(blueprint):\n",
    "        if robots[kind] >= costsMax[kind]: continue\n",
    "        if time <= 8 and kind < 2: continue\n",
    "        newTime = time\n",
    "        nope = False\n",
    "        for resource, cost in enumerate(costs):\n",
    "            if cost > 0 and robots[resource] == 0:\n",
    "                nope = True\n",
    "                break\n",
    "            if resources[resource] < cost:\n",
    "                newTime = min(newTime,\n",
    "                    time+((resources[resource]-cost)//robots[resource]))\n",
    "        newTime -= 1\n",
    "        if newTime > 0 and not nope:\n",
    "            newRobots = robots.copy()\n",
    "            newRobots[kind] += 1\n",
    "            newResources = []\n",
    "            for i in range(4):\n",
    "                newResources.append(resources[i]-costs[i]+(time-newTime)*robots[i])\n",
    "            geodeMax = max(geodeMax, calcGeodeMaxPart2(newTime,\n",
    "                    newResources, newRobots, blueprint, costsMax))\n",
    "    return geodeMax\n",
    "\n",
    "def part2(filename):\n",
    "    blueprints = readData(filename)\n",
    "    sum = 1\n",
    "    for blueprint in blueprints[:3]:\n",
    "        costsMax = list(max(costs[j] for costs in blueprint) for j in range(4))\n",
    "        costsMax[3] = np.inf\n",
    "        geodeMax = calcGeodeMaxPart2(32, [0]*4, [1, 0, 0, 0], blueprint, costsMax)\n",
    "        sum *= geodeMax\n",
    "    return str(sum)\n",
    "\n",
    "print(\"Part 1: \" + part1(\"Day19.txt\"))\n",
    "print(\"Part 2: \" + part2(\"Day19.txt\"))"
   ]
  },
  {
   "attachments": {},
   "cell_type": "markdown",
   "metadata": {},
   "source": [
    "### Day 20"
   ]
  },
  {
   "cell_type": "code",
   "execution_count": 174,
   "metadata": {},
   "outputs": [
    {
     "name": "stdout",
     "output_type": "stream",
     "text": [
      "Part 1: 13289\n",
      "Part 2: 2865721299243\n"
     ]
    }
   ],
   "source": [
    "def readData(filename):\n",
    "    nums = []\n",
    "    with open(filename) as file:\n",
    "        for i, line in enumerate(file):\n",
    "            num = int(line.strip())\n",
    "            nums.append((i, num))\n",
    "            if num == 0: zero = nums[-1]\n",
    "    return nums, zero\n",
    "\n",
    "def part1(filename):\n",
    "    initNums, zero = readData(filename)\n",
    "    nums = deque()\n",
    "    for num in initNums:\n",
    "        nums.append(num)\n",
    "    for num in initNums:\n",
    "        nums.rotate(-nums.index(num))\n",
    "        nums.popleft()\n",
    "        nums.rotate(-num[1])\n",
    "        nums.appendleft(num)\n",
    "    nums.rotate(-nums.index(zero))\n",
    "    return str(np.sum([nums[(i*1000)%len(nums)][1] for i in range(1,4)]))\n",
    "\n",
    "def part2(filename):\n",
    "    initNums, zero = readData(filename)\n",
    "    nums = deque()\n",
    "    for i, num in enumerate(initNums):\n",
    "        initNums[i] = (num[0], num[1]*811589153)\n",
    "        nums.append(initNums[i])\n",
    "    for i in range(10):\n",
    "        for num in initNums:\n",
    "            nums.rotate(-nums.index(num))\n",
    "            nums.popleft()\n",
    "            nums.rotate(-num[1])\n",
    "            nums.appendleft(num)\n",
    "    nums.rotate(-nums.index(zero))\n",
    "    return str(np.sum([nums[(i*1000)%len(nums)][1] for i in range(1,4)]))\n",
    "\n",
    "print(\"Part 1: \" + part1(\"Day20.txt\"))\n",
    "print(\"Part 2: \" + part2(\"Day20.txt\"))"
   ]
  },
  {
   "attachments": {},
   "cell_type": "markdown",
   "metadata": {},
   "source": [
    "### Day 21"
   ]
  },
  {
   "cell_type": "code",
   "execution_count": 25,
   "metadata": {},
   "outputs": [
    {
     "name": "stdout",
     "output_type": "stream",
     "text": [
      "Part 1: 331319379445180\n",
      "Part 2: 3715799488132\n"
     ]
    }
   ],
   "source": [
    "def readData(filename):\n",
    "    monkeys = {}\n",
    "    with open(filename) as file:\n",
    "        for line in file:\n",
    "            name, line = line.strip().split(\": \")\n",
    "            if line.isdigit():\n",
    "                monkeys[name] = int(line)\n",
    "            else:\n",
    "                monkeys[name] = [line[:4], line[7:], line[5]]\n",
    "    return monkeys\n",
    "\n",
    "def shouting(monkeys, monkey):\n",
    "    if isinstance(monkeys[monkey], int):\n",
    "        return monkeys[monkey]\n",
    "    else:\n",
    "        monkeyOne = shouting(monkeys, monkeys[monkey][0])\n",
    "        monkeyTwo = shouting(monkeys, monkeys[monkey][1])\n",
    "        return eval(str(monkeyOne) + monkeys[monkey][2] + str(monkeyTwo))\n",
    "\n",
    "def part1(filename):\n",
    "    monkeys = readData(filename)\n",
    "    return shouting(monkeys, \"root\")\n",
    "\n",
    "def part2(filename, guess):\n",
    "    monkeys = readData(filename)\n",
    "    monkeys.pop(\"humn\")\n",
    "    monkeys[\"root\"][2] = \"==\"\n",
    "    for humn in itertools.count(guess):\n",
    "        monkeys[\"humn\"] = humn\n",
    "        if shouting(monkeys, \"root\"):\n",
    "            return str(humn)\n",
    "        monkeys.pop(\"humn\")\n",
    "\n",
    "print(\"Part 1: \" + str(int(part1(\"Day21.txt\"))))\n",
    "print(\"Part 2: \" + part2(\"Day21.txt\", 3715799488100))\n"
   ]
  },
  {
   "attachments": {},
   "cell_type": "markdown",
   "metadata": {},
   "source": [
    "### Day 22"
   ]
  },
  {
   "cell_type": "code",
   "execution_count": 46,
   "metadata": {},
   "outputs": [
    {
     "name": "stdout",
     "output_type": "stream",
     "text": [
      "Part 1: 65368\n",
      "Part 2: 156166\n"
     ]
    }
   ],
   "source": [
    "def readData(filename):\n",
    "    walls = set()\n",
    "    tiles = set()\n",
    "    start = (-1, -1)\n",
    "    with open(filename) as file:\n",
    "        for i, line in enumerate(file):\n",
    "            if line == \"\\n\":\n",
    "                continue\n",
    "            elif line[0] in [\" \", \".\", \"#\"]:\n",
    "                for j, char in enumerate(line.strip(\"\\n\")):\n",
    "                    if char == \" \":\n",
    "                        continue\n",
    "                    elif char == \"#\":\n",
    "                        walls.add((j, i))\n",
    "                    elif char == \".\":\n",
    "                        if start == (-1, -1): start = (j, i)\n",
    "                        tiles.add((j, i))\n",
    "            else:\n",
    "                line = line.strip(\"\\n\")\n",
    "                rls = [char for char in line if char in [\"R\", \"L\"]]\n",
    "                instructs = line.replace(\"R\", \" \").replace(\"L\", \" \").split()\n",
    "                lastInstruct = instructs[-1]\n",
    "                instructs = list(np.array([[instruct, rl] for instruct, rl in zip(instructs, rls)]).ravel()) \n",
    "                instructs.append(lastInstruct) \n",
    "    return start, instructs, tiles, walls\n",
    "\n",
    "def part1(filename):\n",
    "    start, instructs, tiles, walls = readData(filename)\n",
    "    board = tiles.union(walls)\n",
    "    pos = start\n",
    "    dirs = [(1, 0), (0, 1), (-1, 0), (0, -1)]\n",
    "    dirIndex = 0\n",
    "    for instruct in instructs:\n",
    "        if instruct.isdigit():\n",
    "            for i in range(int(instruct)):\n",
    "                newPos = tuple(p + d for p, d in zip(pos, dirs[dirIndex]))\n",
    "                if newPos in walls:\n",
    "                    break\n",
    "                elif newPos not in tiles:\n",
    "                    if dirIndex == 0:\n",
    "                        newPos = (min(x for x, y in board if y == pos[1]), pos[1])\n",
    "                    elif dirIndex == 1:\n",
    "                        newPos = (pos[0], min(y for x, y in board if x == pos[0]))                        \n",
    "                    elif dirIndex == 2:\n",
    "                        newPos = (max(x for x, y in board if y == pos[1]), pos[1])\n",
    "                    elif dirIndex == 3:\n",
    "                        newPos = (pos[0], max(y for x, y in board if x == pos[0]))\n",
    "                    if newPos in walls:\n",
    "                       break\n",
    "                pos = newPos\n",
    "        elif instruct in [\"R\", \"L\"]:\n",
    "            if instruct == \"R\":\n",
    "                dirIndex += 1\n",
    "                if dirIndex == 4: dirIndex = 0\n",
    "            else:\n",
    "                dirIndex -= 1\n",
    "                if dirIndex == -1: dirIndex = 3\n",
    "    return str(1000*(pos[1]+1)+4*(pos[0]+1)+dirIndex)\n",
    "\n",
    "def neighbour(pos, dirIndex):\n",
    "    if pos[0] == -1:\n",
    "        if pos[1] <= 149:\n",
    "            newPos = (50, 149-pos[1])\n",
    "            dirIndex = 0\n",
    "        elif pos[1] <= 199:\n",
    "            newPos = (pos[1]-100, 0)\n",
    "            dirIndex = 1\n",
    "    elif pos[0] < 49:\n",
    "        if pos[1] == 99:\n",
    "            newPos = (50, pos[0]+50)\n",
    "            dirIndex = 0\n",
    "        elif pos[1] == 200:\n",
    "            newPos = (pos[0]+100, 0)\n",
    "    elif pos[0] == 49:\n",
    "        if pos[1] <= 49:\n",
    "            newPos = (0, 149-pos[1])\n",
    "            dirIndex = 0\n",
    "        elif pos[1] < 99:\n",
    "            newPos = (pos[1]-50, 100)\n",
    "            dirIndex = 1\n",
    "        elif pos[1] == 99:\n",
    "            if dirIndex == 3:\n",
    "                newPos = (50, 99)\n",
    "                dirIndex = 0\n",
    "            elif dirIndex == 2:\n",
    "                newPos = (49, 100)\n",
    "                dirIndex = 1\n",
    "        elif pos[1] == 200:\n",
    "            newPos = (149, 0)\n",
    "    elif pos[0] == 50:\n",
    "        if pos[1] == -1:\n",
    "            newPos = (0, 150)\n",
    "            dirIndex = 0\n",
    "        elif pos[1] == 150:\n",
    "            if dirIndex == 1:\n",
    "                newPos = (49, 150)\n",
    "                dirIndex = 2\n",
    "            elif dirIndex == 0:\n",
    "                newPos = (50, 149)\n",
    "                dirIndex = 3\n",
    "        elif pos[1] > 150:\n",
    "            newPos = (pos[1]-100, 149)\n",
    "            dirIndex = 3\n",
    "    elif pos[0] < 100:\n",
    "        if pos[1] == -1:\n",
    "            newPos = (0, pos[0]+100)\n",
    "            dirIndex = 0\n",
    "        elif pos[1] == 150:\n",
    "            newPos = (49, pos[0]+100)\n",
    "            dirIndex = 2\n",
    "    elif pos[0] == 100:\n",
    "        if pos[1] == -1:\n",
    "            newPos = (0, 199)\n",
    "        elif pos[1] == 50:\n",
    "            if dirIndex == 1:\n",
    "                newPos = (99, 50)\n",
    "                dirIndex = 2\n",
    "            elif dirIndex == 0:\n",
    "                newPos = (100, 49)\n",
    "                dirIndex = 3\n",
    "        elif pos[1] <= 99:\n",
    "            newPos = (pos[1]+50, 49)\n",
    "            dirIndex = 3\n",
    "        elif pos[1] <= 149:\n",
    "            newPos = (149, 149-pos[1])\n",
    "            dirIndex = 2\n",
    "    elif pos[0] <= 149:\n",
    "        if pos[1] == -1:\n",
    "            newPos = (pos[0]-100, 199)\n",
    "        elif pos[1] == 50:\n",
    "            newPos = (99, pos[0]-50)\n",
    "            dirIndex = 2\n",
    "    elif pos[0] == 150:\n",
    "        newPos = (99, 149-pos[1])\n",
    "        dirIndex = 2\n",
    "    return newPos, dirIndex\n",
    "\n",
    "def part2(filename):\n",
    "    start, instructs, tiles, walls = readData(filename)\n",
    "    board = tiles.union(walls)\n",
    "    pos = start\n",
    "    dirs = [(1, 0), (0, 1), (-1, 0), (0, -1)]\n",
    "    dirIndex = 0\n",
    "    for instruct in instructs:\n",
    "        if instruct.isdigit():\n",
    "            for i in range(int(instruct)):\n",
    "                newPos = tuple(p + d for p, d in zip(pos, dirs[dirIndex]))\n",
    "                if newPos in walls:\n",
    "                    break\n",
    "                elif newPos not in tiles:\n",
    "                    newPos, newDirIndex = neighbour(newPos, dirIndex)\n",
    "                    if newPos in walls:\n",
    "                       break\n",
    "                    dirIndex = newDirIndex\n",
    "                pos = newPos\n",
    "        elif instruct in [\"R\", \"L\"]:\n",
    "            if instruct == \"R\":\n",
    "                dirIndex += 1\n",
    "                if dirIndex == 4: dirIndex = 0\n",
    "            else:\n",
    "                dirIndex -= 1\n",
    "                if dirIndex == -1: dirIndex = 3\n",
    "    return str(1000*(pos[1]+1)+4*(pos[0]+1)+dirIndex)\n",
    "\n",
    "print(\"Part 1: \" + part1(\"Day22.txt\"))\n",
    "print(\"Part 2: \" + part2(\"Day22.txt\"))"
   ]
  },
  {
   "attachments": {},
   "cell_type": "markdown",
   "metadata": {},
   "source": [
    "### Day 23"
   ]
  },
  {
   "cell_type": "code",
   "execution_count": 298,
   "metadata": {},
   "outputs": [
    {
     "name": "stdout",
     "output_type": "stream",
     "text": [
      "Part 1: 4052\n",
      "Part 2: 978\n"
     ]
    }
   ],
   "source": [
    "def readData(filename):\n",
    "    elves = []\n",
    "    with open(filename) as file:\n",
    "        for i, line in enumerate(file):\n",
    "            for j, char in enumerate(line):\n",
    "                if char == \"#\":\n",
    "                    elves.append((j, i))\n",
    "    return elves\n",
    "\n",
    "def day23(filename):\n",
    "    elves = readData(filename)\n",
    "    dirs = [(0, -1), (0, 1), (-1, 0), (1, 0)]\n",
    "    dirInd = 0\n",
    "    nbours = {}\n",
    "    nbours[0] = [(-1, -1), (0, -1), (1, -1)]\n",
    "    nbours[1] = [(-1, 1), (0, 1), (1, 1)]\n",
    "    nbours[2] = [(-1, -1), (-1, 0), (-1, 1)]\n",
    "    nbours[3] = [(1, -1), (1, 0), (1, 1)]\n",
    "    allNbours = set(nbours[0] + nbours[1] + nbours[2] + nbours[3])\n",
    "    for counter in itertools.count():\n",
    "        newElves = {}\n",
    "        for i, elf in enumerate(elves):\n",
    "            if any(tuple(e+n for e, n in zip(elf, nbour)) in elves for nbour in allNbours):\n",
    "                for j in range(4):\n",
    "                    if all(tuple(e+n for e, n in zip(elf, nbour)) not in elves for nbour in nbours[(dirInd+j)%4]):\n",
    "                        pos = tuple(e+d for e, d in zip(elf, dirs[(dirInd+j)%4]))\n",
    "                        if pos not in newElves:\n",
    "                            newElves[pos] = i\n",
    "                        else:\n",
    "                            newElves[pos] = -1\n",
    "                        break\n",
    "        if counter == 10: \n",
    "            xMin = min(x for x, y in elves)\n",
    "            xMax = max(x for x, y in elves)\n",
    "            yMin = min(y for x, y in elves)\n",
    "            yMax = max(y for x, y in elves)\n",
    "            print(\"Part 1: \" + str((xMax-xMin+1)*(yMax-yMin+1)-len(elves)))\n",
    "        if len(newElves) == 0: break\n",
    "        for key, value in newElves.items():\n",
    "            if value >= 0:\n",
    "                elves[value] = key\n",
    "        dirInd = (dirInd+1)%4\n",
    "    print(\"Part 2: \" + str(counter+1))\n",
    "\n",
    "day23(\"Day23.txt\")"
   ]
  },
  {
   "attachments": {},
   "cell_type": "markdown",
   "metadata": {},
   "source": [
    "### Day 24"
   ]
  },
  {
   "cell_type": "code",
   "execution_count": 40,
   "metadata": {},
   "outputs": [
    {
     "name": "stdout",
     "output_type": "stream",
     "text": [
      "Part 1: 260\n",
      "Part 2: 747\n"
     ]
    }
   ],
   "source": [
    "def readData(filename):\n",
    "    dirs = {'>': (1, 0), '<': (-1, 0), 'v': (0, 1), '^': (0, -1)}\n",
    "    blizzards = []\n",
    "    dirsBlizzards = []\n",
    "    with open(filename) as file:\n",
    "        for i, line in enumerate(file):\n",
    "            for j, char in enumerate(line):\n",
    "                if i == 0 and char == '\\n':\n",
    "                    xMax = j-1\n",
    "                elif line[1] == '#':\n",
    "                    yMax = i\n",
    "                elif char in dirs.keys():\n",
    "                    blizzards.append((j, i))\n",
    "                    dirsBlizzards.append(dirs[char])\n",
    "    return blizzards, dirsBlizzards, xMax, yMax\n",
    "\n",
    "def journey(blizzards, dirsBlizzards, start, end, xMax, yMax):\n",
    "    dirs = [(0, 0), (1, 0), (-1, 0), (0, 1), (0, -1)]\n",
    "    poses = [start]\n",
    "    for step in itertools.count():\n",
    "        for i, blizzard in enumerate(blizzards):\n",
    "            x, y = tuple(b+d for b, d in zip(blizzard, dirsBlizzards[i]))\n",
    "            if x == 0:\n",
    "                x = xMax-1\n",
    "            elif x == xMax:\n",
    "                x = 1\n",
    "            if y == 0:\n",
    "                y = yMax-1\n",
    "            elif y == yMax:\n",
    "                y = 1\n",
    "            blizzards[i] = (x, y)\n",
    "        blizzardsNow = set(blizzards)\n",
    "        newPoses = set()\n",
    "        for pos in poses:\n",
    "            for dir in dirs:\n",
    "                x, y = tuple(p+d for p, d in zip(pos, dir))\n",
    "                if (x, y) == end: return(step+1, blizzards)\n",
    "                if (x, y) == start or (x > 0 and x < xMax and y > 0 and y < yMax and \\\n",
    "                    (x, y) not in blizzardsNow):\n",
    "                    newPoses.add((x, y))\n",
    "        poses = newPoses.copy()           \n",
    "\n",
    "blizzards, dirsBlizzards, xMax, yMax = readData('Day24.txt')\n",
    "steps, blizzards = journey(blizzards, dirsBlizzards, (1, 0), (xMax-1, yMax), xMax, yMax)\n",
    "print('Part 1: ' + str(steps))\n",
    "newSteps, blizzards = journey(blizzards, dirsBlizzards, (xMax-1, yMax), (1, 0), xMax, yMax)\n",
    "steps += newSteps\n",
    "newSteps, blizzards = journey(blizzards, dirsBlizzards, (1, 0), (xMax-1, yMax), xMax, yMax)\n",
    "steps += newSteps\n",
    "print('Part 2: ' + str(steps))\n",
    "            "
   ]
  },
  {
   "attachments": {},
   "cell_type": "markdown",
   "metadata": {},
   "source": [
    "### Day 25"
   ]
  },
  {
   "cell_type": "code",
   "execution_count": 266,
   "metadata": {},
   "outputs": [
    {
     "name": "stdout",
     "output_type": "stream",
     "text": [
      "Part 1: 122-0==-=211==-2-200\n"
     ]
    }
   ],
   "source": [
    "def part1(filename):\n",
    "    sum = 0\n",
    "    iMax = 0\n",
    "    with open(filename) as file:\n",
    "        for line in file:\n",
    "            for i, char in enumerate(line.strip()[::-1]):\n",
    "                if char.isdigit():\n",
    "                    sum += int(char)*(5**i)\n",
    "                elif char == \"-\":\n",
    "                    sum -= 5**i\n",
    "                elif char == \"=\":\n",
    "                    sum -= 2*(5**i)\n",
    "                if i > iMax: iMax = i\n",
    "    \n",
    "    fact = 5**(iMax+1)\n",
    "    charSum = \"\"\n",
    "    while fact >= 1:\n",
    "        num = int(sum//fact)\n",
    "        sum -= num*fact\n",
    "        charSum += str(num)\n",
    "        fact /= 5\n",
    "    \n",
    "    ans = \"\"\n",
    "    overflow = False\n",
    "    for char in charSum[::-1]:\n",
    "        if overflow:\n",
    "            thisChar = str(int(char)+1)\n",
    "        else:\n",
    "            thisChar = char\n",
    "        if thisChar == \"3\":\n",
    "            ans += \"=\"\n",
    "            overflow = True\n",
    "        elif thisChar == \"4\":\n",
    "            ans += \"-\"\n",
    "            overflow = True\n",
    "        elif thisChar == \"5\":\n",
    "            ans += \"0\"\n",
    "            overflow = True\n",
    "        else:\n",
    "            ans += thisChar\n",
    "            overflow = False\n",
    "\n",
    "    return str(ans[::-1])\n",
    "    \n",
    "print(\"Part 1: \" + part1(\"Day25.txt\"))"
   ]
  }
 ],
 "metadata": {
  "kernelspec": {
   "display_name": "base",
   "language": "python",
   "name": "python3"
  },
  "language_info": {
   "codemirror_mode": {
    "name": "ipython",
    "version": 3
   },
   "file_extension": ".py",
   "mimetype": "text/x-python",
   "name": "python",
   "nbconvert_exporter": "python",
   "pygments_lexer": "ipython3",
   "version": "3.10.8"
  },
  "vscode": {
   "interpreter": {
    "hash": "e7cb1b9ae4d417fedf7f40a8eec98f7cfbd359e096bd857395a915f4609834ce"
   }
  }
 },
 "nbformat": 4,
 "nbformat_minor": 2
}
