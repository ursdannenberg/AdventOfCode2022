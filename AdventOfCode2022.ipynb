{
 "cells": [
  {
   "cell_type": "code",
   "execution_count": 1,
   "metadata": {},
   "outputs": [],
   "source": [
    "import numpy as np\n",
    "import matplotlib.pyplot as plt\n",
    "from matplotlib.colors import ListedColormap\n",
    "import itertools"
   ]
  },
  {
   "cell_type": "markdown",
   "metadata": {},
   "source": [
    "### Day 1"
   ]
  },
  {
   "cell_type": "code",
   "execution_count": 23,
   "metadata": {},
   "outputs": [
    {
     "name": "stdout",
     "output_type": "stream",
     "text": [
      "Part 1: 70116\n",
      "Part 2: 206582\n"
     ]
    }
   ],
   "source": [
    "nums = [0]\n",
    "with open(\"Day1.txt\") as file:\n",
    "    for line in file:\n",
    "        if line == '\\n':\n",
    "            nums.append(0)\n",
    "        else:\n",
    "            nums[-1] += int(line)\n",
    "print('Part 1: ' + str(max(nums)))\n",
    "nums.sort(reverse=True)\n",
    "print('Part 2: ' + str(sum(nums[:3])))"
   ]
  },
  {
   "cell_type": "markdown",
   "metadata": {},
   "source": [
    "### Day 2"
   ]
  },
  {
   "cell_type": "code",
   "execution_count": 24,
   "metadata": {},
   "outputs": [
    {
     "name": "stdout",
     "output_type": "stream",
     "text": [
      "Part 1: 10941\n",
      "Part 2: 13071\n"
     ]
    }
   ],
   "source": [
    "def parse(input):\n",
    "    if input in ['A', 'X']: output = 1\n",
    "    elif input in ['B', 'Y']: output = 2\n",
    "    elif input in ['C', 'Z']: output = 3\n",
    "    return output\n",
    "\n",
    "score1 = 0\n",
    "score2 = 0\n",
    "with open(\"Day2.txt\") as file: \n",
    "    for line in file:\n",
    "        you = parse(line[0])\n",
    "        me = parse(line[2])\n",
    "        # Part 1\n",
    "        score1 += me\n",
    "        if me == you: score1 += 3\n",
    "        elif me == you+1 or (me == 1 and you == 3): score1 += 6\n",
    "        # Part 2\n",
    "        if me == 1:\n",
    "            score2 += you-1\n",
    "            if you == 1: score2 += 3\n",
    "        elif me == 2:\n",
    "            score2 += you+3\n",
    "        elif me == 3:\n",
    "            score2 += you+7\n",
    "            if you == 3: score2 -= 3        \n",
    "print('Part 1: ' + str(score1))\n",
    "print('Part 2: ' + str(score2))"
   ]
  },
  {
   "cell_type": "markdown",
   "metadata": {},
   "source": [
    "### Day 3"
   ]
  },
  {
   "cell_type": "code",
   "execution_count": 25,
   "metadata": {},
   "outputs": [
    {
     "name": "stdout",
     "output_type": "stream",
     "text": [
      "Part 1: 7701\n",
      "Part 2: 2644\n"
     ]
    }
   ],
   "source": [
    "def parse(input):\n",
    "    output = ord(input)-96\n",
    "    if output < 0: output = output+58\n",
    "    return output\n",
    "\n",
    "items = []\n",
    "sum1 = 0\n",
    "sum2 = 0\n",
    "with open(\"Day3.txt\") as file: \n",
    "    for line in file:\n",
    "        line = line.strip('\\n')\n",
    "        items.append([parse(item) for item in line])\n",
    "        # Part 1\n",
    "        for item in items[-1][:int(len(line)/2)]:\n",
    "            if item in items[-1][int(len(line)/2):]:\n",
    "                sum1 += item\n",
    "                break\n",
    "        # Part 2\n",
    "        if len(items) == 3:\n",
    "            for item in items[0]:\n",
    "                if item in items[1] and item in items[2]:\n",
    "                    sum2 += item\n",
    "                    break\n",
    "            items = []        \n",
    "print('Part 1: ' + str(sum1))\n",
    "print('Part 2: ' + str(sum2))\n"
   ]
  },
  {
   "cell_type": "markdown",
   "metadata": {},
   "source": [
    "### Day 4"
   ]
  },
  {
   "cell_type": "code",
   "execution_count": 26,
   "metadata": {},
   "outputs": [
    {
     "name": "stdout",
     "output_type": "stream",
     "text": [
      "Part 1: 462\n",
      "Part 2: 835\n"
     ]
    }
   ],
   "source": [
    "counter1 = 0\n",
    "counter2 = 0\n",
    "with open(\"Day4.txt\") as file: \n",
    "    for line in file:\n",
    "        bounds = [[int(bound) for bound in section.split('-')] \\\n",
    "            for section in line.split(',')]\n",
    "        cond = False\n",
    "        for i in range(2):\n",
    "            if bounds[i][0] <= bounds[(i+1)%2][0]:\n",
    "                if bounds[i][1] >= bounds[(i+1)%2][1]:\n",
    "                    counter1 += 1\n",
    "                    cond = True\n",
    "                    break\n",
    "                elif bounds[i][1] >= bounds[(i+1)%2][0]:\n",
    "                    cond = True\n",
    "            elif bounds[i][0] <= bounds[(i+1)%2][1] and \\\n",
    "                bounds[i][1] >= bounds[(i+1)%2][1]:\n",
    "                cond = True\n",
    "        if cond: counter2 += 1\n",
    "print('Part 1: ' + str(counter1))\n",
    "print('Part 2: ' + str(counter2))"
   ]
  },
  {
   "cell_type": "markdown",
   "metadata": {},
   "source": [
    "### Day 5"
   ]
  },
  {
   "cell_type": "code",
   "execution_count": 27,
   "metadata": {},
   "outputs": [
    {
     "name": "stdout",
     "output_type": "stream",
     "text": [
      "Part 1: GFTNRBZPF\n",
      "Part 2: VRQWPDSGP\n"
     ]
    }
   ],
   "source": [
    "def read(line, stacks1, stacks2):\n",
    "    index = 0\n",
    "    while index < len(line):\n",
    "        if line[index] == '[':\n",
    "            for stack in [stacks1, stacks2]:\n",
    "                stack[int(index/4)].insert(0, line[index+1]) \n",
    "        index += 4\n",
    "\n",
    "def move(line, stacks1, stacks2):\n",
    "    line = line.split('move ')[1]\n",
    "    num = int(line.split(' from ')[0])\n",
    "    line = line.split(' from ')[1]\n",
    "    fro, to = [int(chars) for chars in line.split(' to ')]\n",
    "    while num > 0:\n",
    "        stacks1[to-1].append(stacks1[fro-1][-1])\n",
    "        stacks2[to-1].append(stacks2[fro-1][-num])\n",
    "        stacks1[fro-1].pop()\n",
    "        stacks2[fro-1].pop(-num)\n",
    "        num -= 1   \n",
    "\n",
    "firstLine = True\n",
    "with open(\"Day5.txt\") as file:\n",
    "    for line in file:\n",
    "        if firstLine:\n",
    "            stacks1 = [[] for i in range(int(len(line)/4))]\n",
    "            stacks2 = [[] for i in range(int(len(line)/4))]\n",
    "            firstLine = False\n",
    "        if all(char in [' ', '\\n'] for char in line) or line[1] == '1':\n",
    "            continue\n",
    "        elif line[0] == 'm':\n",
    "            move(line, stacks1, stacks2)\n",
    "        else:\n",
    "            read(line, stacks1, stacks2)\n",
    "\n",
    "solution = ''\n",
    "for stack in stacks1:\n",
    "    solution += stack[-1]\n",
    "print('Part 1: ' + solution)\n",
    "solution = ''\n",
    "for stack in stacks2:\n",
    "    solution += stack[-1]\n",
    "print('Part 2: ' + solution)\n"
   ]
  },
  {
   "cell_type": "markdown",
   "metadata": {},
   "source": [
    "### Day 6"
   ]
  },
  {
   "cell_type": "code",
   "execution_count": 28,
   "metadata": {},
   "outputs": [
    {
     "name": "stdout",
     "output_type": "stream",
     "text": [
      "Part 1: 1909\n",
      "Part 2: 3380\n"
     ]
    }
   ],
   "source": [
    "with open(\"Day6.txt\") as file:\n",
    "    for line in file:\n",
    "        for part in [0, 1]:\n",
    "            pos = 3+10*part\n",
    "            while True:\n",
    "                segment = line[pos-(3+10*part):pos+1]\n",
    "                if len(set(segment)) == len(segment):\n",
    "                    print('Part %i: ' % (part+1) + str(pos+1))\n",
    "                    break\n",
    "                pos += 1"
   ]
  },
  {
   "cell_type": "markdown",
   "metadata": {},
   "source": [
    "### Day 7"
   ]
  },
  {
   "cell_type": "code",
   "execution_count": 29,
   "metadata": {},
   "outputs": [
    {
     "name": "stdout",
     "output_type": "stream",
     "text": [
      "Part 1: 1581595\n",
      "Part 2: 1544176\n"
     ]
    }
   ],
   "source": [
    "path = \"\"\n",
    "dirSizes = {}\n",
    "with open(\"Day7.txt\") as file:\n",
    "    for line in file:\n",
    "        if line[0:3] == \"$ c\":\n",
    "            dir = line.split(\"$ cd \")[1].strip(\"\\n\")\n",
    "            if dir == \"..\":\n",
    "                oldPath = path\n",
    "                path = oldPath.rsplit(\"/\", 2)[0] + \"/\"\n",
    "                if path not in dirSizes.keys():\n",
    "                    dirSizes[path] = dirSizes[oldPath]\n",
    "                else:\n",
    "                    dirSizes[path] += dirSizes[oldPath]\n",
    "            else:\n",
    "                path += dir + \"/\"\n",
    "        else:\n",
    "            if line[0] == \"$\" or line[0] == \"d\":\n",
    "                continue\n",
    "            else:\n",
    "                size = int(\"\".join(char for char in line if char.isdigit()))\n",
    "                if path not in dirSizes.keys():\n",
    "                    dirSizes[path] = size\n",
    "                else:\n",
    "                    dirSizes[path] += size\n",
    "\n",
    "sum = 0\n",
    "needed = 30000000-(70000000-dirSizes[\"//\"])\n",
    "found = dirSizes[\"//\"]\n",
    "for dirSize in dirSizes.values():\n",
    "    if dirSize <= 100000: sum += dirSize\n",
    "    if dirSize >= needed and dirSize < found: found = dirSize\n",
    "print(\"Part 1: \" + str(sum))\n",
    "print(\"Part 2: \" + str(found))\n",
    "\n",
    "        "
   ]
  },
  {
   "cell_type": "markdown",
   "metadata": {},
   "source": [
    "### Day 8"
   ]
  },
  {
   "cell_type": "code",
   "execution_count": 30,
   "metadata": {},
   "outputs": [
    {
     "name": "stdout",
     "output_type": "stream",
     "text": [
      "Part 1: 1787\n",
      "Part 2: 440640\n"
     ]
    }
   ],
   "source": [
    "def calcScore(tree, i, segment, score):\n",
    "    if i%2 == 0: segment = reversed(list(segment))\n",
    "    for thisTree in segment:\n",
    "        score[i] += 1\n",
    "        if thisTree >= tree: break\n",
    "\n",
    "grid = []\n",
    "with open(\"Day8.txt\") as file:\n",
    "    for line in file:\n",
    "        grid.append([])\n",
    "        for char in line.strip():\n",
    "            grid[-1].append(int(char))\n",
    "grid = np.asarray(grid)\n",
    "counter = 0\n",
    "scores = np.zeros(tuple(grid.shape))\n",
    "for i in range(grid.shape[0]):\n",
    "    for j in range(grid.shape[1]):\n",
    "        score = np.zeros(4)\n",
    "        segments = [grid[:i, j], grid[i+1:, j], grid[i, :j], grid[i, j+1:]]\n",
    "        if any(all(tree < grid[i, j] for tree in segment) for segment in segments): counter += 1\n",
    "        for k, segment in enumerate(segments):\n",
    "            calcScore(grid[i, j], k, segment, score)\n",
    "        scores[i, j] = np.prod(score)\n",
    "print(\"Part 1: \" + str(counter))\n",
    "print(\"Part 2: \" + str(int(np.amax(scores))))\n",
    "        \n"
   ]
  },
  {
   "cell_type": "markdown",
   "metadata": {},
   "source": [
    "### Day 9"
   ]
  },
  {
   "cell_type": "code",
   "execution_count": 31,
   "metadata": {},
   "outputs": [
    {
     "name": "stdout",
     "output_type": "stream",
     "text": [
      "Part 1: 5513\n",
      "Part 2: 2427\n"
     ]
    }
   ],
   "source": [
    "def checkPosTail(posTail, posHead):\n",
    "    posTail = list(posTail)\n",
    "    if posHead[0] == posTail[0] and posHead[1] > posTail[1]+1:\n",
    "        posTail[1] += 1\n",
    "    elif posHead[0] == posTail[0] and posHead[1] < posTail[1]-1:\n",
    "        posTail[1] -= 1\n",
    "    elif posHead[1] == posTail[1] and posHead[0] > posTail[0]+1:\n",
    "        posTail[0] += 1\n",
    "    elif posHead[1] == posTail[1] and posHead[0] < posTail[0]-1:\n",
    "        posTail[0] -= 1\n",
    "    elif (posHead[0] >= posTail[0]+1 and posHead[1] > posTail[1]+1) \\\n",
    "        or (posHead[1] >= posTail[1]+1 and posHead[0] > posTail[0]+1):\n",
    "        posTail[0] += 1\n",
    "        posTail[1] += 1\n",
    "    elif (posHead[0] <= posTail[0]-1 and posHead[1] > posTail[1]+1) \\\n",
    "        or (posHead[1] >= posTail[1]+1 and posHead[0] < posTail[0]-1):\n",
    "        posTail[0] -= 1\n",
    "        posTail[1] += 1\n",
    "    elif (posHead[0] >= posTail[0]+1 and posHead[1] < posTail[1]-1) \\\n",
    "        or (posHead[1] <= posTail[1]-1 and posHead[0] > posTail[0]+1):\n",
    "        posTail[0] += 1\n",
    "        posTail[1] -= 1\n",
    "    elif (posHead[0] <= posTail[0]-1 and posHead[1] < posTail[1]-1) \\\n",
    "        or (posHead[1] <= posTail[1]-1 and posHead[0] < posTail[0]-1):\n",
    "        posTail[0] -= 1\n",
    "        posTail[1] -= 1\n",
    "    return tuple(posTail)\n",
    "\n",
    "def moveRope(length):\n",
    "    poses = [(0, 0) for i in range(length)]\n",
    "    posesTail = []\n",
    "    with open(\"Day9.txt\") as file:\n",
    "        for line in file:\n",
    "            dir, steps = line.strip().split(' ')\n",
    "            for i in range(int(steps)):\n",
    "                posHead = list(poses[0])\n",
    "                if dir == 'R':\n",
    "                    posHead[0] += 1\n",
    "                elif dir == 'L':\n",
    "                    posHead[0] -= 1\n",
    "                elif dir == 'U':\n",
    "                    posHead[1] += 1\n",
    "                elif dir == 'D':\n",
    "                    posHead[1] -= 1\n",
    "                poses[0] = tuple(posHead)\n",
    "                for j in range(1, length):\n",
    "                    poses[j] = checkPosTail(poses[j], poses[j-1])\n",
    "                if poses[length-1] not in posesTail:\n",
    "                    posesTail.append(poses[length-1])\n",
    "    return str(len(posesTail))\n",
    "\n",
    "print(\"Part 1: \" + moveRope(2))\n",
    "print(\"Part 2: \" + moveRope(10))\n",
    "\n",
    "            "
   ]
  },
  {
   "attachments": {},
   "cell_type": "markdown",
   "metadata": {},
   "source": [
    "### Day 10"
   ]
  },
  {
   "cell_type": "code",
   "execution_count": 32,
   "metadata": {},
   "outputs": [
    {
     "name": "stdout",
     "output_type": "stream",
     "text": [
      "Part 1: 14160\n"
     ]
    },
    {
     "data": {
      "text/plain": [
       "Text(0.5, 1.0, 'Part 2')"
      ]
     },
     "execution_count": 32,
     "metadata": {},
     "output_type": "execute_result"
    },
    {
     "data": {
      "image/png": "[encoded data removed]",
      "text/plain": [
       "<Figure size 432x288 with 1 Axes>"
      ]
     },
     "metadata": {
      "needs_background": "light"
     },
     "output_type": "display_data"
    }
   ],
   "source": [
    "cycle = 0\n",
    "X = 1\n",
    "\n",
    "# Part 1\n",
    "cycles = np.linspace(20, 220, num=6, dtype=int)\n",
    "sum = 0\n",
    "\n",
    "def part1(sum, cycle, X):\n",
    "    if cycle in cycles: sum += cycle*X\n",
    "    return sum\n",
    "\n",
    "# Part 2\n",
    "CRT = np.zeros((6, 40))\n",
    "\n",
    "def part2(CRT, cycle, X):\n",
    "    if cycle%40 in [X-1, X, X+1]: CRT[cycle//40, cycle%40] = 1\n",
    "    return CRT\n",
    "    \n",
    "with open(\"Day10.txt\") as file:\n",
    "    for line in file:\n",
    "        if line[0] == \"n\":\n",
    "            CRT = part2(CRT, cycle, X)\n",
    "            cycle += 1\n",
    "            sum = part1(sum, cycle, X)\n",
    "        elif line[0] == \"a\":\n",
    "            for i in range(2):\n",
    "                CRT = part2(CRT, cycle, X)\n",
    "                cycle += 1\n",
    "                sum = part1(sum, cycle, X)\n",
    "            X += int(line.split(\"addx \")[1].strip(\"\\n\"))\n",
    "print(\"Part 1: \" + str(sum))\n",
    "cmapbw = ListedColormap(['k', 'w'], N=2)\n",
    "plt.imshow(CRT, cmap=cmapbw, vmin=0, vmax=1)\n",
    "plt.title(\"Part 2\")"
   ]
  },
  {
   "attachments": {},
   "cell_type": "markdown",
   "metadata": {},
   "source": [
    "### Day 11"
   ]
  },
  {
   "cell_type": "code",
   "execution_count": 33,
   "metadata": {},
   "outputs": [
    {
     "name": "stdout",
     "output_type": "stream",
     "text": [
      "Part 1: 78678\n"
     ]
    },
    {
     "ename": "KeyboardInterrupt",
     "evalue": "",
     "output_type": "error",
     "traceback": [
      "\u001b[0;31m---------------------------------------------------------------------------\u001b[0m",
      "\u001b[0;31mKeyboardInterrupt\u001b[0m                         Traceback (most recent call last)",
      "\u001b[0;32m<ipython-input-33-68de5a18211e>\u001b[0m in \u001b[0;36m<module>\u001b[0;34m\u001b[0m\n\u001b[1;32m     63\u001b[0m \u001b[0;34m\u001b[0m\u001b[0m\n\u001b[1;32m     64\u001b[0m \u001b[0mprint\u001b[0m\u001b[0;34m(\u001b[0m\u001b[0;34m\"Part 1: \"\u001b[0m \u001b[0;34m+\u001b[0m \u001b[0mmonkeyinthemiddle\u001b[0m\u001b[0;34m(\u001b[0m\u001b[0;36m1\u001b[0m\u001b[0;34m,\u001b[0m \u001b[0;36m20\u001b[0m\u001b[0;34m)\u001b[0m\u001b[0;34m)\u001b[0m\u001b[0;34m\u001b[0m\u001b[0;34m\u001b[0m\u001b[0m\n\u001b[0;32m---> 65\u001b[0;31m \u001b[0mprint\u001b[0m\u001b[0;34m(\u001b[0m\u001b[0;34m\"Part 2: \"\u001b[0m \u001b[0;34m+\u001b[0m \u001b[0mmonkeyinthemiddle\u001b[0m\u001b[0;34m(\u001b[0m\u001b[0;36m2\u001b[0m\u001b[0;34m,\u001b[0m \u001b[0;36m10000\u001b[0m\u001b[0;34m)\u001b[0m\u001b[0;34m)\u001b[0m\u001b[0;34m\u001b[0m\u001b[0;34m\u001b[0m\u001b[0m\n\u001b[0m",
      "\u001b[0;32m<ipython-input-33-68de5a18211e>\u001b[0m in \u001b[0;36mmonkeyinthemiddle\u001b[0;34m(part, numRounds)\u001b[0m\n\u001b[1;32m     55\u001b[0m                 \u001b[0;32melif\u001b[0m \u001b[0mpart\u001b[0m \u001b[0;34m==\u001b[0m \u001b[0;36m2\u001b[0m\u001b[0;34m:\u001b[0m\u001b[0;34m\u001b[0m\u001b[0;34m\u001b[0m\u001b[0m\n\u001b[1;32m     56\u001b[0m                     \u001b[0mfear\u001b[0m \u001b[0;34m%=\u001b[0m \u001b[0mprod\u001b[0m\u001b[0;34m\u001b[0m\u001b[0;34m\u001b[0m\u001b[0m\n\u001b[0;32m---> 57\u001b[0;31m                 \u001b[0;32mif\u001b[0m \u001b[0mfear\u001b[0m\u001b[0;34m%\u001b[0m\u001b[0mtest\u001b[0m\u001b[0;34m[\u001b[0m\u001b[0mmonkey\u001b[0m\u001b[0;34m]\u001b[0m\u001b[0;34m[\u001b[0m\u001b[0;36m0\u001b[0m\u001b[0;34m]\u001b[0m \u001b[0;34m==\u001b[0m \u001b[0;36m0\u001b[0m\u001b[0;34m:\u001b[0m\u001b[0;34m\u001b[0m\u001b[0;34m\u001b[0m\u001b[0m\n\u001b[0m\u001b[1;32m     58\u001b[0m                     \u001b[0mitems\u001b[0m\u001b[0;34m[\u001b[0m\u001b[0mtest\u001b[0m\u001b[0;34m[\u001b[0m\u001b[0mmonkey\u001b[0m\u001b[0;34m]\u001b[0m\u001b[0;34m[\u001b[0m\u001b[0;36m1\u001b[0m\u001b[0;34m]\u001b[0m\u001b[0;34m]\u001b[0m\u001b[0;34m.\u001b[0m\u001b[0mappend\u001b[0m\u001b[0;34m(\u001b[0m\u001b[0mfear\u001b[0m\u001b[0;34m)\u001b[0m\u001b[0;34m\u001b[0m\u001b[0;34m\u001b[0m\u001b[0m\n\u001b[1;32m     59\u001b[0m                 \u001b[0;32melse\u001b[0m\u001b[0;34m:\u001b[0m\u001b[0;34m\u001b[0m\u001b[0;34m\u001b[0m\u001b[0m\n",
      "\u001b[0;31mKeyboardInterrupt\u001b[0m: "
     ]
    }
   ],
   "source": [
    "def readFile():\n",
    "    monkeys = []\n",
    "    items = {}\n",
    "    operation = {}\n",
    "    test = {}\n",
    "    with open(\"Day11.txt\") as file:\n",
    "        for line in file:\n",
    "            line = line.strip()\n",
    "            if line == \"\":\n",
    "                continue\n",
    "            if line[0] == \"M\":\n",
    "                monkeys.append(int(\"\".join(char for char in line if char.isdigit())))\n",
    "            elif line[0] == \"S\":\n",
    "                startItems = line.split(\"Starting items: \")[1].split(\", \")\n",
    "                items[monkeys[-1]] = [int(item) for item in startItems]\n",
    "            elif line[0] == \"O\":\n",
    "                if \"*\" in line:\n",
    "                    operation[monkeys[-1]] = [\"*\"]\n",
    "                elif \"+\" in line:\n",
    "                    operation[monkeys[-1]] = [\"+\"]\n",
    "                inte = \"\".join(char for char in line if char.isdigit())\n",
    "                if len(inte) == 0:\n",
    "                    operation[monkeys[-1]].append(-1)\n",
    "                else:\n",
    "                    operation[monkeys[-1]].append(int(inte))\n",
    "            elif line[0] == \"T\":\n",
    "                test[monkeys[-1]] = [int(\"\".join(char for char in line if char.isdigit()))]\n",
    "            else:\n",
    "                test[monkeys[-1]].append(int(\"\".join(char for char in line if char.isdigit())))\n",
    "    return monkeys, items, operation, test\n",
    "\n",
    "def monkeyinthemiddle(part, numRounds):\n",
    "    monkeys, items, operation, test = readFile()\n",
    "    inspects = {}\n",
    "    for monkey in monkeys:\n",
    "        inspects[monkey] = 0\n",
    "    if part == 2:\n",
    "        prod = np.prod([value[0] for value in test.values()])\n",
    "    for i in range(numRounds):\n",
    "        for monkey in monkeys:\n",
    "            for item in items[monkey]:\n",
    "                inspects[monkey] += 1\n",
    "                if operation[monkey][0] == \"*\":\n",
    "                    if operation[monkey][1] == -1:\n",
    "                        fear = item * item\n",
    "                    else:\n",
    "                        fear = item * operation[monkey][1]\n",
    "                elif operation[monkey][0] == \"+\":\n",
    "                    if operation[monkey][1] == -1:\n",
    "                        fear = item + item\n",
    "                    else:\n",
    "                        fear = item + operation[monkey][1]\n",
    "                if part == 1:\n",
    "                    fear //= 3\n",
    "                elif part == 2:\n",
    "                    fear %= prod\n",
    "                if fear%test[monkey][0] == 0:\n",
    "                    items[test[monkey][1]].append(fear)\n",
    "                else:\n",
    "                    items[test[monkey][2]].append(fear)\n",
    "            items[monkey] = []     \n",
    "    return str(np.prod(sorted(inspects.values())[-2:]))   \n",
    " \n",
    "print(\"Part 1: \" + monkeyinthemiddle(1, 20))\n",
    "print(\"Part 2: \" + monkeyinthemiddle(2, 10000))"
   ]
  },
  {
   "attachments": {},
   "cell_type": "markdown",
   "metadata": {},
   "source": [
    "### Day 12"
   ]
  },
  {
   "cell_type": "code",
   "execution_count": null,
   "metadata": {},
   "outputs": [],
   "source": [
    "map = []\n",
    "with open(\"Day12.txt\") as file:\n",
    "    for i, line in enumerate(file):\n",
    "        map.append([])\n",
    "        for j, char in enumerate(line.strip()):\n",
    "            if char == \"S\":\n",
    "                map[-1].append(1)\n",
    "                start = (i, j)\n",
    "            elif char == \"E\":\n",
    "                map[-1].append(26)\n",
    "                end = (i, j)\n",
    "            else:\n",
    "                map[-1].append(ord(char)-96)\n",
    "\n",
    "map = np.asarray(map)\n",
    "steps1 = np.zeros(map.shape)\n",
    "steps2 = np.zeros(map.shape)\n",
    "queue = [start]\n",
    "visited = []\n",
    "done = False\n",
    "while True:\n",
    "    thisPos = queue[0]\n",
    "    poses = []\n",
    "    for i in [thisPos[0]-1, thisPos[0]+1]:\n",
    "        if i >= 0 and i <= map.shape[0]-1: poses.append((i, thisPos[1]))\n",
    "    for i in [thisPos[1]-1, thisPos[1]+1]:\n",
    "        if i >= 0 and i <= map.shape[1]-1: poses.append((thisPos[0], i))\n",
    "    for pos in poses:\n",
    "        if pos not in visited:\n",
    "            if map[pos] <= map[thisPos]+1:\n",
    "                steps1[pos] = steps1[thisPos]+1\n",
    "                if map[pos] == 1:\n",
    "                    steps2[pos] = 0\n",
    "                else:\n",
    "                    steps2[pos] = steps2[thisPos]+1\n",
    "                if pos == end:\n",
    "                    print(\"Part 1: \" + str(int(steps1[pos])))\n",
    "                    print(\"Part 2: \" + str(int(steps2[pos])))\n",
    "                    done = True\n",
    "                    break\n",
    "                queue.append(pos)\n",
    "                visited.append(pos)\n",
    "    queue.pop(0)\n",
    "    if done == True: break\n",
    "\n",
    "        "
   ]
  },
  {
   "attachments": {},
   "cell_type": "markdown",
   "metadata": {},
   "source": [
    "### Day 13"
   ]
  },
  {
   "cell_type": "code",
   "execution_count": null,
   "metadata": {},
   "outputs": [],
   "source": [
    "def compare(l, r):\n",
    "    if isinstance(l, int) and isinstance(r, int):\n",
    "        if l < r:\n",
    "            return True\n",
    "        elif l > r:\n",
    "            return False\n",
    "        else:\n",
    "            return None\n",
    "\n",
    "    elif isinstance(l, list) and isinstance(r, list):\n",
    "        for li, ri in zip(l, r):\n",
    "            result = compare(li, ri)\n",
    "            if result != None:\n",
    "                return result\n",
    "        if len(l) < len(r):\n",
    "            return True\n",
    "        elif len(l) > len(r):\n",
    "            return False\n",
    "        else:\n",
    "            return None\n",
    "\n",
    "    elif isinstance(l, list) and isinstance(r, int):\n",
    "        result = compare(l, [r])\n",
    "        if result != None:\n",
    "            return result\n",
    "\n",
    "    \n",
    "    elif isinstance(l, int) and isinstance(r, list):\n",
    "        result = compare([l], r)\n",
    "        if result != None:\n",
    "            return result"
   ]
  },
  {
   "attachments": {},
   "cell_type": "markdown",
   "metadata": {},
   "source": [
    "#### Part 1"
   ]
  },
  {
   "cell_type": "code",
   "execution_count": null,
   "metadata": {},
   "outputs": [
    {
     "name": "stdout",
     "output_type": "stream",
     "text": [
      "6187\n"
     ]
    }
   ],
   "source": [
    "indices = []\n",
    "i = 1\n",
    "with open(\"Day13.txt\") as file:\n",
    "    for line in file:\n",
    "        if i%3 == 1:\n",
    "            left = eval(line.strip())\n",
    "        elif i%3 == 2:\n",
    "            right = eval(line.strip())\n",
    "        else:\n",
    "            if compare(left, right): indices.append(i//3)\n",
    "        i += 1\n",
    "print(str(sum(indices)))"
   ]
  },
  {
   "attachments": {},
   "cell_type": "markdown",
   "metadata": {},
   "source": [
    "#### Part 2"
   ]
  },
  {
   "cell_type": "code",
   "execution_count": null,
   "metadata": {},
   "outputs": [
    {
     "name": "stdout",
     "output_type": "stream",
     "text": [
      "23520\n"
     ]
    }
   ],
   "source": [
    "order = [1, 2]\n",
    "lists = {1: [[2]], 2: [[6]]}\n",
    "index = 3\n",
    "with open(\"Day13.txt\") as file:\n",
    "    for line in file:\n",
    "        if line == \"\\n\":\n",
    "            continue\n",
    "        line = eval(line.strip())\n",
    "        lists[index] = line\n",
    "        for i, ind in enumerate(order):\n",
    "            if compare(line, lists[ind]):\n",
    "                order.insert(i, index)\n",
    "                break\n",
    "        if index not in order: order.append(index)\n",
    "        index += 1\n",
    "print(np.prod([i+1 for i, ind in enumerate(order) if ind == 1 or ind == 2]))"
   ]
  },
  {
   "attachments": {},
   "cell_type": "markdown",
   "metadata": {},
   "source": [
    "### Day 14"
   ]
  },
  {
   "cell_type": "code",
   "execution_count": 3,
   "metadata": {},
   "outputs": [
    {
     "name": "stdout",
     "output_type": "stream",
     "text": [
      "Part 1: 897\n",
      "Part 2: 26683\n"
     ]
    }
   ],
   "source": [
    "def readData():\n",
    "    blocked = set()\n",
    "    with open(\"Day14.txt\") as file:\n",
    "        for line in file:\n",
    "            line = line.strip().split(\" -> \")\n",
    "            rocks = [eval(\"(\" + coords + \")\") for coords in line]\n",
    "            for left, right in zip(rocks, rocks[1:]):\n",
    "                if left[0] == right[0]:\n",
    "                    coords = np.linspace(min(left[1], right[1]), max(left[1], right[1]),\n",
    "                        num=abs(left[1]-right[1])+1, dtype=int)\n",
    "                    blocked.update((left[0], coord) for coord in coords if (left[0], coord) not in blocked)\n",
    "                elif left[1] == right[1]:\n",
    "                    coords = np.linspace(min(left[0], right[0]), max(left[0], right[0]),\n",
    "                        num=abs(left[0]-right[0])+1, dtype=int)\n",
    "                    blocked.update((coord, left[1]) for coord in coords if (coord, left[1]) not in blocked)\n",
    "    maxY = max(y for x, y in blocked)\n",
    "    return blocked, maxY\n",
    "\n",
    "# Part 1\n",
    "def part1():\n",
    "    blocked, maxY = readData()\n",
    "    for i in itertools.count():\n",
    "        sandX = 500\n",
    "        sandY = 0\n",
    "        while True:\n",
    "            moved = False\n",
    "            for newSand in [(sandX, sandY+1), (sandX-1, sandY+1), (sandX+1, sandY+1)]:\n",
    "                if newSand not in blocked:\n",
    "                    sandX, sandY = newSand\n",
    "                    moved = True\n",
    "                    break\n",
    "            if not moved:\n",
    "                blocked.add((sandX, sandY))\n",
    "                break\n",
    "            if sandY == maxY:\n",
    "                return str(i)\n",
    "print(\"Part 1: \" + part1())\n",
    "\n",
    "# Part 2\n",
    "def part2():\n",
    "    blocked, maxY = readData()\n",
    "    for i in itertools.count():\n",
    "        sandX = 500\n",
    "        sandY = 0\n",
    "        while True:\n",
    "            moved = False\n",
    "            for newSand in [(sandX, sandY+1), (sandX-1, sandY+1), (sandX+1, sandY+1)]:\n",
    "                if newSand not in blocked and newSand[1] <= maxY+1:\n",
    "                    sandX, sandY = newSand\n",
    "                    moved = True\n",
    "                    break\n",
    "            if not moved:\n",
    "                if sandX == 500 and sandY == 0:\n",
    "                    return str(i+1)\n",
    "                blocked.add((sandX, sandY))\n",
    "                break\n",
    "print(\"Part 2: \" + part2())\n"
   ]
  },
  {
   "attachments": {},
   "cell_type": "markdown",
   "metadata": {},
   "source": [
    "### Day 15"
   ]
  },
  {
   "cell_type": "code",
   "execution_count": 14,
   "metadata": {},
   "outputs": [
    {
     "name": "stdout",
     "output_type": "stream",
     "text": [
      "5240818\n",
      "13213086906101\n"
     ]
    }
   ],
   "source": [
    "def readData(filename, part):\n",
    "    sensors = []\n",
    "    beacons = []\n",
    "    manhattanDists = []\n",
    "    xMin = np.Inf\n",
    "    xMax = 0\n",
    "    with open(filename) as file:\n",
    "        for line in file:\n",
    "            line = line.split(\"Sensor at x=\")[1]\n",
    "            sensorX, line = line.split(\", y=\", 1)\n",
    "            sensorY, line = line.split(\": closest beacon is at x=\")\n",
    "            beaconX, line = line.split(\", y=\")\n",
    "            beaconY = line.strip()\n",
    "            sensorX, sensorY, beaconX, beaconY = [int(coord) for coord in [sensorX, sensorY, beaconX, beaconY]]\n",
    "            sensors.append((sensorX, sensorY))\n",
    "            beacons.append((beaconX, beaconY))\n",
    "            manhattanDists.append(abs(sensorX-beaconX)+abs(sensorY-beaconY))\n",
    "            if sensorX-manhattanDists[-1] < xMin: xMin = sensorX-manhattanDists[-1]\n",
    "            if sensorX+manhattanDists[-1] > xMax: xMax = sensorX+manhattanDists[-1]\n",
    "    if part == \"1\":\n",
    "        return sensors, beacons, manhattanDists, xMin, xMax\n",
    "    elif part == \"2\":\n",
    "        return sensors, beacons, manhattanDists\n",
    "\n",
    "def part1(filename, y):\n",
    "    sensors, beacons, manhattanDists, xMin, xMax = readData(filename, \"1\")\n",
    "    counter = 0\n",
    "    for x in range(xMin, xMax+1):\n",
    "        if (x, y) not in sensors and (x, y) not in beacons:\n",
    "            for i, (sensorX, sensorY) in enumerate(sensors):\n",
    "                if manhattanDists[i]-abs(sensorY-y)-abs(sensorX-x) >= 0:\n",
    "                        counter += 1\n",
    "                        break\n",
    "    return str(counter)\n",
    "\n",
    "print(part1(\"Day15.txt\", 2000000))\n",
    "\n",
    "def part2(filename, maxCoord):\n",
    "    sensors, beacons, manhattanDists = readData(filename, \"2\")\n",
    "    for y in range(0, maxCoord+1):\n",
    "        intervalsX = []\n",
    "        for i, (sensorX, sensorY) in enumerate(sensors):\n",
    "            manhattanDist = manhattanDists[i]-abs(sensorY-y)\n",
    "            if manhattanDist >= 0:\n",
    "                intervalsX.append((sensorX-manhattanDist, sensorX+manhattanDist))\n",
    "        intervalsX.sort()\n",
    "        maxX = 0\n",
    "        for leftX, rightX in intervalsX:\n",
    "            if leftX-1 > maxX: return str((maxX+1)*4000000+y)\n",
    "            if rightX > maxX: maxX = rightX\n",
    "\n",
    "print(part2(\"Day15.txt\", 4000000))\n",
    "\n"
   ]
  }
 ],
 "metadata": {
  "kernelspec": {
   "display_name": "base",
   "language": "python",
   "name": "python3"
  },
  "language_info": {
   "codemirror_mode": {
    "name": "ipython",
    "version": 3
   },
   "file_extension": ".py",
   "mimetype": "text/x-python",
   "name": "python",
   "nbconvert_exporter": "python",
   "pygments_lexer": "ipython3",
   "version": "3.8.5"
  },
  "vscode": {
   "interpreter": {
    "hash": "e7cb1b9ae4d417fedf7f40a8eec98f7cfbd359e096bd857395a915f4609834ce"
   }
  }
 },
 "nbformat": 4,
 "nbformat_minor": 2
}
