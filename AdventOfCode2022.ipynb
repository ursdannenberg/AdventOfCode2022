{
 "cells": [
  {
   "cell_type": "code",
   "execution_count": 57,
   "metadata": {},
   "outputs": [],
   "source": [
    "import numpy as np"
   ]
  },
  {
   "cell_type": "markdown",
   "metadata": {},
   "source": [
    "### Day 1"
   ]
  },
  {
   "cell_type": "code",
   "execution_count": 2,
   "metadata": {},
   "outputs": [
    {
     "name": "stdout",
     "output_type": "stream",
     "text": [
      "Part 1: 70116\n",
      "Part 2: 206582\n"
     ]
    }
   ],
   "source": [
    "nums = [0]\n",
    "with open(\"Day1.txt\") as file:\n",
    "    for line in file:\n",
    "        if line == '\\n':\n",
    "            nums.append(0)\n",
    "        else:\n",
    "            nums[-1] += int(line)\n",
    "print('Part 1: ' + str(max(nums)))\n",
    "nums.sort(reverse=True)\n",
    "print('Part 2: ' + str(sum(nums[:3])))"
   ]
  },
  {
   "cell_type": "markdown",
   "metadata": {},
   "source": [
    "### Day 2"
   ]
  },
  {
   "cell_type": "code",
   "execution_count": 20,
   "metadata": {},
   "outputs": [
    {
     "name": "stdout",
     "output_type": "stream",
     "text": [
      "Part 1: 10941\n",
      "Part 2: 13071\n"
     ]
    }
   ],
   "source": [
    "def parse(input):\n",
    "    if input in ['A', 'X']: output = 1\n",
    "    elif input in ['B', 'Y']: output = 2\n",
    "    elif input in ['C', 'Z']: output = 3\n",
    "    return output\n",
    "\n",
    "score1 = 0\n",
    "score2 = 0\n",
    "with open(\"Day2.txt\") as file: \n",
    "    for line in file:\n",
    "        you = parse(line[0])\n",
    "        me = parse(line[2])\n",
    "        # Part 1\n",
    "        score1 += me\n",
    "        if me == you: score1 += 3\n",
    "        elif me == you+1 or (me == 1 and you == 3): score1 += 6\n",
    "        # Part 2\n",
    "        if me == 1:\n",
    "            score2 += you-1\n",
    "            if you == 1: score2 += 3\n",
    "        elif me == 2:\n",
    "            score2 += you+3\n",
    "        elif me == 3:\n",
    "            score2 += you+7\n",
    "            if you == 3: score2 -= 3        \n",
    "print('Part 1: ' + str(score1))\n",
    "print('Part 2: ' + str(score2))"
   ]
  },
  {
   "cell_type": "markdown",
   "metadata": {},
   "source": [
    "### Day 3"
   ]
  },
  {
   "cell_type": "code",
   "execution_count": 21,
   "metadata": {},
   "outputs": [
    {
     "name": "stdout",
     "output_type": "stream",
     "text": [
      "Part 1: 7701\n",
      "Part 2: 2644\n"
     ]
    }
   ],
   "source": [
    "def parse(input):\n",
    "    output = ord(input)-96\n",
    "    if output < 0: output = output+58\n",
    "    return output\n",
    "\n",
    "items = []\n",
    "sum1 = 0\n",
    "sum2 = 0\n",
    "with open(\"Day3.txt\") as file: \n",
    "    for line in file:\n",
    "        line = line.strip('\\n')\n",
    "        items.append([parse(item) for item in line])\n",
    "        # Part 1\n",
    "        for item in items[-1][:int(len(line)/2)]:\n",
    "            if item in items[-1][int(len(line)/2):]:\n",
    "                sum1 += item\n",
    "                break\n",
    "        # Part 2\n",
    "        if len(items) == 3:\n",
    "            for item in items[0]:\n",
    "                if item in items[1] and item in items[2]:\n",
    "                    sum2 += item\n",
    "                    break\n",
    "            items = []        \n",
    "print('Part 1: ' + str(sum1))\n",
    "print('Part 2: ' + str(sum2))\n"
   ]
  },
  {
   "cell_type": "markdown",
   "metadata": {},
   "source": [
    "### Day 4"
   ]
  },
  {
   "cell_type": "code",
   "execution_count": 48,
   "metadata": {},
   "outputs": [
    {
     "name": "stdout",
     "output_type": "stream",
     "text": [
      "Part 1: 462\n",
      "Part 2: 835\n"
     ]
    }
   ],
   "source": [
    "counter1 = 0\n",
    "counter2 = 0\n",
    "with open(\"Day4.txt\") as file: \n",
    "    for line in file:\n",
    "        bounds = [[int(bound) for bound in section.split('-')] \\\n",
    "            for section in line.split(',')]\n",
    "        cond = False\n",
    "        for i in range(2):\n",
    "            if bounds[i][0] <= bounds[(i+1)%2][0]:\n",
    "                if bounds[i][1] >= bounds[(i+1)%2][1]:\n",
    "                    counter1 += 1\n",
    "                    cond = True\n",
    "                    break\n",
    "                elif bounds[i][1] >= bounds[(i+1)%2][0]:\n",
    "                    cond = True\n",
    "            elif bounds[i][0] <= bounds[(i+1)%2][1] and \\\n",
    "                bounds[i][1] >= bounds[(i+1)%2][1]:\n",
    "                cond = True\n",
    "        if cond: counter2 += 1\n",
    "print('Part 1: ' + str(counter1))\n",
    "print('Part 2: ' + str(counter2))"
   ]
  },
  {
   "cell_type": "markdown",
   "metadata": {},
   "source": [
    "### Day 5"
   ]
  },
  {
   "cell_type": "code",
   "execution_count": 2,
   "metadata": {},
   "outputs": [
    {
     "name": "stdout",
     "output_type": "stream",
     "text": [
      "Part 1: GFTNRBZPF\n",
      "Part 2: VRQWPDSGP\n"
     ]
    }
   ],
   "source": [
    "def read(line, stacks1, stacks2):\n",
    "    index = 0\n",
    "    while index < len(line):\n",
    "        if line[index] == '[':\n",
    "            for stack in [stacks1, stacks2]:\n",
    "                stack[int(index/4)].insert(0, line[index+1]) \n",
    "        index += 4\n",
    "\n",
    "def move(line, stacks1, stacks2):\n",
    "    line = line.split('move ')[1]\n",
    "    num = int(line.split(' from ')[0])\n",
    "    line = line.split(' from ')[1]\n",
    "    fro, to = [int(chars) for chars in line.split(' to ')]\n",
    "    while num > 0:\n",
    "        stacks1[to-1].append(stacks1[fro-1][-1])\n",
    "        stacks2[to-1].append(stacks2[fro-1][-num])\n",
    "        stacks1[fro-1].pop()\n",
    "        stacks2[fro-1].pop(-num)\n",
    "        num -= 1   \n",
    "\n",
    "firstLine = True\n",
    "with open(\"Day5.txt\") as file:\n",
    "    for line in file:\n",
    "        if firstLine:\n",
    "            stacks1 = [[] for i in range(int(len(line)/4))]\n",
    "            stacks2 = [[] for i in range(int(len(line)/4))]\n",
    "            firstLine = False\n",
    "        if all(char in [' ', '\\n'] for char in line) or line[1] == '1':\n",
    "            continue\n",
    "        elif line[0] == 'm':\n",
    "            move(line, stacks1, stacks2)\n",
    "        else:\n",
    "            read(line, stacks1, stacks2)\n",
    "\n",
    "solution = ''\n",
    "for stack in stacks1:\n",
    "    solution += stack[-1]\n",
    "print('Part 1: ' + solution)\n",
    "solution = ''\n",
    "for stack in stacks2:\n",
    "    solution += stack[-1]\n",
    "print('Part 2: ' + solution)\n"
   ]
  },
  {
   "cell_type": "markdown",
   "metadata": {},
   "source": [
    "### Day 6"
   ]
  },
  {
   "cell_type": "code",
   "execution_count": 9,
   "metadata": {},
   "outputs": [
    {
     "name": "stdout",
     "output_type": "stream",
     "text": [
      "Part 1: 1909\n",
      "Part 2: 3380\n"
     ]
    }
   ],
   "source": [
    "with open(\"Day6.txt\") as file:\n",
    "    for line in file:\n",
    "        for part in [0, 1]:\n",
    "            pos = 3+10*part\n",
    "            while True:\n",
    "                segment = line[pos-(3+10*part):pos+1]\n",
    "                if len(set(segment)) == len(segment):\n",
    "                    print('Part %i: ' % (part+1) + str(pos+1))\n",
    "                    break\n",
    "                pos += 1"
   ]
  },
  {
   "cell_type": "markdown",
   "metadata": {},
   "source": [
    "### Day 7"
   ]
  },
  {
   "cell_type": "code",
   "execution_count": 55,
   "metadata": {},
   "outputs": [
    {
     "name": "stdout",
     "output_type": "stream",
     "text": [
      "Part 1: 1581595\n",
      "Part 1: 1544176\n"
     ]
    }
   ],
   "source": [
    "path = \"\"\n",
    "dirSizes = {}\n",
    "with open(\"Day7.txt\") as file:\n",
    "    for line in file:\n",
    "        if line[0:3] == \"$ c\":\n",
    "            dir = line.split(\"$ cd \")[1].strip(\"\\n\")\n",
    "            if dir == \"..\":\n",
    "                oldPath = path\n",
    "                path = oldPath.rsplit(\"/\", 2)[0] + \"/\"\n",
    "                if path not in dirSizes.keys():\n",
    "                    dirSizes[path] = dirSizes[oldPath]\n",
    "                else:\n",
    "                    dirSizes[path] += dirSizes[oldPath]\n",
    "            else:\n",
    "                path += dir + \"/\"\n",
    "        else:\n",
    "            if line[0] == \"$\" or line[0] == \"d\":\n",
    "                continue\n",
    "            else:\n",
    "                size = int(\"\".join(char for char in line if char.isdigit()))\n",
    "                if path not in dirSizes.keys():\n",
    "                    dirSizes[path] = size\n",
    "                else:\n",
    "                    dirSizes[path] += size\n",
    "\n",
    "sum = 0\n",
    "needed = 30000000-(70000000-dirSizes[\"//\"])\n",
    "found = dirSizes[\"//\"]\n",
    "for dirSize in dirSizes.values():\n",
    "    if dirSize <= 100000: sum += dirSize\n",
    "    if dirSize >= needed and dirSize < found: found = dirSize\n",
    "print(\"Part 1: \" + str(sum))\n",
    "print(\"Part 2: \" + str(found))\n",
    "\n",
    "        "
   ]
  },
  {
   "cell_type": "markdown",
   "metadata": {},
   "source": [
    "### Day 8"
   ]
  },
  {
   "cell_type": "code",
   "execution_count": 118,
   "metadata": {},
   "outputs": [
    {
     "name": "stdout",
     "output_type": "stream",
     "text": [
      "Part 1: 1787\n",
      "Part 2: 440640\n"
     ]
    }
   ],
   "source": [
    "def calcScore(tree, i, segment, score):\n",
    "    if i%2 == 0: segment = reversed(list(segment))\n",
    "    for thisTree in segment:\n",
    "        score[i] += 1\n",
    "        if thisTree >= tree: break\n",
    "\n",
    "grid = []\n",
    "with open(\"Day8.txt\") as file:\n",
    "    for line in file:\n",
    "        grid.append([])\n",
    "        for char in line.strip():\n",
    "            grid[-1].append(int(char))\n",
    "grid = np.asarray(grid)\n",
    "counter = 0\n",
    "scores = np.zeros(tuple(grid.shape))\n",
    "for i in range(grid.shape[0]):\n",
    "    for j in range(grid.shape[1]):\n",
    "        score = np.zeros(4)\n",
    "        segments = [grid[:i, j], grid[i+1:, j], grid[i, :j], grid[i, j+1:]]\n",
    "        if any(all(tree < grid[i, j] for tree in segment) for segment in segments): counter += 1\n",
    "        for k, segment in enumerate(segments):\n",
    "            calcScore(grid[i, j], k, segment, score)\n",
    "        scores[i, j] = np.prod(score)\n",
    "print(\"Part 1: \" + str(counter))\n",
    "print(\"Part 2: \" + str(int(np.amax(scores))))\n",
    "        \n"
   ]
  },
  {
   "cell_type": "code",
   "execution_count": null,
   "metadata": {},
   "outputs": [],
   "source": []
  }
 ],
 "metadata": {
  "kernelspec": {
   "display_name": "Python 3.8.5 ('base')",
   "language": "python",
   "name": "python3"
  },
  "language_info": {
   "codemirror_mode": {
    "name": "ipython",
    "version": 3
   },
   "file_extension": ".py",
   "mimetype": "text/x-python",
   "name": "python",
   "nbconvert_exporter": "python",
   "pygments_lexer": "ipython3",
   "version": "3.8.5"
  },
  "vscode": {
   "interpreter": {
    "hash": "e7cb1b9ae4d417fedf7f40a8eec98f7cfbd359e096bd857395a915f4609834ce"
   }
  }
 },
 "nbformat": 4,
 "nbformat_minor": 2
}
