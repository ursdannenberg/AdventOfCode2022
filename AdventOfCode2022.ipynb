{
 "cells": [
  {
   "cell_type": "code",
   "execution_count": 1,
   "metadata": {},
   "outputs": [],
   "source": [
    "import numpy as np"
   ]
  },
  {
   "cell_type": "markdown",
   "metadata": {},
   "source": [
    "### Day 1"
   ]
  },
  {
   "cell_type": "code",
   "execution_count": 2,
   "metadata": {},
   "outputs": [
    {
     "name": "stdout",
     "output_type": "stream",
     "text": [
      "Part 1: 70116\n",
      "Part 2: 206582\n"
     ]
    }
   ],
   "source": [
    "nums = [0]\n",
    "with open(\"Day1.txt\") as file:\n",
    "    for line in file:\n",
    "        if line == '\\n':\n",
    "            nums.append(0)\n",
    "        else:\n",
    "            nums[-1] += int(line)\n",
    "print('Part 1: ' + str(max(nums)))\n",
    "nums.sort(reverse=True)\n",
    "print('Part 2: ' + str(sum(nums[:3])))"
   ]
  },
  {
   "cell_type": "markdown",
   "metadata": {},
   "source": [
    "### Day 2"
   ]
  },
  {
   "cell_type": "code",
   "execution_count": 3,
   "metadata": {},
   "outputs": [
    {
     "name": "stdout",
     "output_type": "stream",
     "text": [
      "Part 1: 10941\n",
      "Part 2: 13071\n"
     ]
    }
   ],
   "source": [
    "def parse(input):\n",
    "    if input in ['A', 'X']: output = 1\n",
    "    elif input in ['B', 'Y']: output = 2\n",
    "    elif input in ['C', 'Z']: output = 3\n",
    "    return output\n",
    "\n",
    "score = 0\n",
    "with open(\"Day2.txt\") as file: \n",
    "    for line in file:\n",
    "        you = parse(line[0])\n",
    "        me = parse(line[2])\n",
    "        score += me\n",
    "        if me == you: score += 3\n",
    "        elif me == you+1 or (me == 1 and you == 3): score += 6\n",
    "print('Part 1: ' + str(score))\n",
    "\n",
    "score = 0\n",
    "with open(\"Day2.txt\") as file:\n",
    "    for line in file:\n",
    "        you = parse(line[0])\n",
    "        result = parse(line[2])\n",
    "        if result == 1:\n",
    "            score += you-1\n",
    "            if you == 1: score += 3\n",
    "        elif result == 2:\n",
    "            score += you+3\n",
    "        elif result == 3:\n",
    "            score += you+7\n",
    "            if you == 3: score -= 3\n",
    "print('Part 2: '+str(score))"
   ]
  },
  {
   "cell_type": "markdown",
   "metadata": {},
   "source": [
    "### Day 3"
   ]
  },
  {
   "cell_type": "code",
   "execution_count": 18,
   "metadata": {},
   "outputs": [
    {
     "name": "stdout",
     "output_type": "stream",
     "text": [
      "Part 1: 7701\n",
      "Part 1: 2644\n"
     ]
    }
   ],
   "source": [
    "def parse(input):\n",
    "    output = ord(input)-96\n",
    "    if output < 0: output = output+58\n",
    "    return output\n",
    "\n",
    "sum = 0\n",
    "with open(\"Day3.txt\") as file: \n",
    "    for line in file:\n",
    "        line = line.strip('\\n')\n",
    "        firstItems = [parse(item) for item in line[:int(len(line)/2)]]\n",
    "        secondItems = [parse(item) for item in line[int(len(line)/2):]]\n",
    "        for item in firstItems:\n",
    "            if item in secondItems:\n",
    "                sum += item\n",
    "                break\n",
    "print('Part 1: '+str(sum))\n",
    "\n",
    "items = []\n",
    "sum = 0\n",
    "with open(\"Day3.txt\") as file: \n",
    "    for line in file:\n",
    "        line = line.strip('\\n')\n",
    "        items.append([parse(item) for item in line])\n",
    "        if len(items) == 3:\n",
    "            for item in items[0]:\n",
    "                if item in items[1] and item in items[2]:\n",
    "                    sum += item\n",
    "                    break\n",
    "            items = []\n",
    "print('Part 1: '+str(sum))\n"
   ]
  },
  {
   "cell_type": "code",
   "execution_count": null,
   "metadata": {},
   "outputs": [],
   "source": []
  }
 ],
 "metadata": {
  "kernelspec": {
   "display_name": "Python 3.8.5 ('base')",
   "language": "python",
   "name": "python3"
  },
  "language_info": {
   "codemirror_mode": {
    "name": "ipython",
    "version": 3
   },
   "file_extension": ".py",
   "mimetype": "text/x-python",
   "name": "python",
   "nbconvert_exporter": "python",
   "pygments_lexer": "ipython3",
   "version": "3.8.5"
  },
  "vscode": {
   "interpreter": {
    "hash": "e7cb1b9ae4d417fedf7f40a8eec98f7cfbd359e096bd857395a915f4609834ce"
   }
  }
 },
 "nbformat": 4,
 "nbformat_minor": 2
}
