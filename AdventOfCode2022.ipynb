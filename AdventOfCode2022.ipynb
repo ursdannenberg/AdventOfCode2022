{
 "cells": [
  {
   "cell_type": "code",
   "execution_count": 1,
   "metadata": {},
   "outputs": [],
   "source": [
    "import numpy as np"
   ]
  },
  {
   "cell_type": "markdown",
   "metadata": {},
   "source": [
    "### Day 1"
   ]
  },
  {
   "cell_type": "code",
   "execution_count": 2,
   "metadata": {},
   "outputs": [
    {
     "name": "stdout",
     "output_type": "stream",
     "text": [
      "Part 1: 70116\n",
      "Part 2: 206582\n"
     ]
    }
   ],
   "source": [
    "nums = [0]\n",
    "with open(\"Day1.txt\") as file:\n",
    "    for line in file:\n",
    "        if line == '\\n':\n",
    "            nums.append(0)\n",
    "        else:\n",
    "            nums[-1] += int(line)\n",
    "print('Part 1: ' + str(max(nums)))\n",
    "nums.sort(reverse=True)\n",
    "print('Part 2: ' + str(sum(nums[:3])))"
   ]
  },
  {
   "cell_type": "markdown",
   "metadata": {},
   "source": [
    "### Day 2"
   ]
  },
  {
   "cell_type": "code",
   "execution_count": 20,
   "metadata": {},
   "outputs": [
    {
     "name": "stdout",
     "output_type": "stream",
     "text": [
      "Part 1: 10941\n",
      "Part 2: 13071\n"
     ]
    }
   ],
   "source": [
    "def parse(input):\n",
    "    if input in ['A', 'X']: output = 1\n",
    "    elif input in ['B', 'Y']: output = 2\n",
    "    elif input in ['C', 'Z']: output = 3\n",
    "    return output\n",
    "\n",
    "score1 = 0\n",
    "score2 = 0\n",
    "with open(\"Day2.txt\") as file: \n",
    "    for line in file:\n",
    "        you = parse(line[0])\n",
    "        me = parse(line[2])\n",
    "        # Part 1\n",
    "        score1 += me\n",
    "        if me == you: score1 += 3\n",
    "        elif me == you+1 or (me == 1 and you == 3): score1 += 6\n",
    "        # Part 2\n",
    "        if me == 1:\n",
    "            score2 += you-1\n",
    "            if you == 1: score2 += 3\n",
    "        elif me == 2:\n",
    "            score2 += you+3\n",
    "        elif me == 3:\n",
    "            score2 += you+7\n",
    "            if you == 3: score2 -= 3        \n",
    "print('Part 1: ' + str(score1))\n",
    "print('Part 2: ' + str(score2))"
   ]
  },
  {
   "cell_type": "markdown",
   "metadata": {},
   "source": [
    "### Day 3"
   ]
  },
  {
   "cell_type": "code",
   "execution_count": 21,
   "metadata": {},
   "outputs": [
    {
     "name": "stdout",
     "output_type": "stream",
     "text": [
      "Part 1: 7701\n",
      "Part 2: 2644\n"
     ]
    }
   ],
   "source": [
    "def parse(input):\n",
    "    output = ord(input)-96\n",
    "    if output < 0: output = output+58\n",
    "    return output\n",
    "\n",
    "items = []\n",
    "sum1 = 0\n",
    "sum2 = 0\n",
    "with open(\"Day3.txt\") as file: \n",
    "    for line in file:\n",
    "        line = line.strip('\\n')\n",
    "        items.append([parse(item) for item in line])\n",
    "        # Part 1\n",
    "        for item in items[-1][:int(len(line)/2)]:\n",
    "            if item in items[-1][int(len(line)/2):]:\n",
    "                sum1 += item\n",
    "                break\n",
    "        # Part 2\n",
    "        if len(items) == 3:\n",
    "            for item in items[0]:\n",
    "                if item in items[1] and item in items[2]:\n",
    "                    sum2 += item\n",
    "                    break\n",
    "            items = []        \n",
    "print('Part 1: ' + str(sum1))\n",
    "print('Part 2: ' + str(sum2))\n"
   ]
  },
  {
   "cell_type": "markdown",
   "metadata": {},
   "source": [
    "### Day 4"
   ]
  },
  {
   "cell_type": "code",
   "execution_count": 48,
   "metadata": {},
   "outputs": [
    {
     "name": "stdout",
     "output_type": "stream",
     "text": [
      "Part 1: 462\n",
      "Part 2: 835\n"
     ]
    }
   ],
   "source": [
    "counter1 = 0\n",
    "counter2 = 0\n",
    "with open(\"Day4.txt\") as file: \n",
    "    for line in file:\n",
    "        bounds = [[int(bound) for bound in section.split('-')] \\\n",
    "            for section in line.split(',')]\n",
    "        cond = False\n",
    "        for i in range(2):\n",
    "            if bounds[i][0] <= bounds[(i+1)%2][0]:\n",
    "                if bounds[i][1] >= bounds[(i+1)%2][1]:\n",
    "                    counter1 += 1\n",
    "                    cond = True\n",
    "                    break\n",
    "                elif bounds[i][1] >= bounds[(i+1)%2][0]:\n",
    "                    cond = True\n",
    "            elif bounds[i][0] <= bounds[(i+1)%2][1] and \\\n",
    "                bounds[i][1] >= bounds[(i+1)%2][1]:\n",
    "                cond = True\n",
    "        if cond: counter2 += 1\n",
    "print('Part 1: ' + str(counter1))\n",
    "print('Part 2: ' + str(counter2))"
   ]
  },
  {
   "cell_type": "code",
   "execution_count": 40,
   "metadata": {},
   "outputs": [
    {
     "name": "stdout",
     "output_type": "stream",
     "text": [
      "0\n"
     ]
    }
   ],
   "source": [
    "print(2%2)"
   ]
  },
  {
   "cell_type": "code",
   "execution_count": null,
   "metadata": {},
   "outputs": [],
   "source": []
  }
 ],
 "metadata": {
  "kernelspec": {
   "display_name": "Python 3.8.5 ('base')",
   "language": "python",
   "name": "python3"
  },
  "language_info": {
   "codemirror_mode": {
    "name": "ipython",
    "version": 3
   },
   "file_extension": ".py",
   "mimetype": "text/x-python",
   "name": "python",
   "nbconvert_exporter": "python",
   "pygments_lexer": "ipython3",
   "version": "3.8.5"
  },
  "vscode": {
   "interpreter": {
    "hash": "e7cb1b9ae4d417fedf7f40a8eec98f7cfbd359e096bd857395a915f4609834ce"
   }
  }
 },
 "nbformat": 4,
 "nbformat_minor": 2
}
